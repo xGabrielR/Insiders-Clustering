{
 "cells": [
  {
   "cell_type": "markdown",
   "metadata": {},
   "source": [
    "# All In One Place"
   ]
  },
  {
   "cell_type": "markdown",
   "metadata": {},
   "source": [
    "## 0.0. Requirements"
   ]
  },
  {
   "cell_type": "markdown",
   "metadata": {},
   "source": [
    "### 0.1. Imports"
   ]
  },
  {
   "cell_type": "code",
   "execution_count": null,
   "metadata": {},
   "outputs": [],
   "source": [
    "import pickle\n",
    "import numpy as np\n",
    "import pandas as pd\n",
    "\n",
    "from glob import glob\n",
    "from umap.umap_ import UMAP\n",
    "\n",
    "from matplotlib import pyplot as plt\n",
    "\n",
    "from pyspark.sql import types\n",
    "from pyspark.sql import SparkSession\n",
    "from pyspark.sql import functions as pf\n",
    "from pyspark.ml.feature import VectorAssembler\n",
    "from pyspark.ml.feature import RobustScalerModel\n",
    "from pyspark.ml.clustering import GaussianMixtureModel\n",
    "from pyspark.ml.regression import RandomForestRegressionModel"
   ]
  },
  {
   "cell_type": "markdown",
   "metadata": {},
   "source": [
    "### 0.2. Aux Functions"
   ]
  },
  {
   "cell_type": "code",
   "execution_count": 70,
   "metadata": {},
   "outputs": [],
   "source": [
    "def apply_robust_scaler(df, cols):\n",
    "\n",
    "    scalers = glob(\"../src/features/*_robust_*\")\n",
    "\n",
    "    for col in cols:\n",
    "        \n",
    "        vec = VectorAssembler(\n",
    "            inputCols=[col],\n",
    "            outputCol=f\"vec_{col}\"\n",
    "        )\n",
    "\n",
    "        df = vec.transform(df)\n",
    "\n",
    "        robust_scaler = RobustScalerModel.load([k for k in scalers if k.split(\"/\")[-1].startswith(col)][0])\n",
    "\n",
    "        df = robust_scaler.transform(df)\n",
    "\n",
    "        df = df.drop(f\"vec_{col}\")\n",
    "\n",
    "    return df\n",
    "\n",
    "def apply_vectorizing(df, selected_features=[\"features\", \"customerid\"]):\n",
    "    df = df.select(selected_features[1:] + [k for k in df.columns if k.startswith(\"vec\")])\n",
    "\n",
    "    scaled_features = [k for k in df.columns if k.startswith(\"vec\")]\n",
    "\n",
    "    vec = VectorAssembler(\n",
    "        inputCols=scaled_features,\n",
    "        outputCol=\"features\"\n",
    "    )\n",
    "\n",
    "    df_vector = vec.transform(df).select(selected_features)\n",
    "\n",
    "    return df_vector"
   ]
  },
  {
   "cell_type": "markdown",
   "metadata": {},
   "source": [
    "### 0.3. Read Data"
   ]
  },
  {
   "cell_type": "code",
   "execution_count": 2,
   "metadata": {},
   "outputs": [],
   "source": [
    "base_columns = [\n",
    "    \"InvoiceNo\",\n",
    "    \"StockCode\",\n",
    "    \"Description\",\n",
    "    \"Quantity\",\n",
    "    \"InvoiceDate\",\n",
    "    \"UnitPrice\",\n",
    "    \"CustomerID\",\n",
    "    \"Country\"\n",
    "]\n",
    "\n",
    "data_path = \"/home/grc/arep/insiders_clustering/data/Ecommerce.csv\""
   ]
  },
  {
   "cell_type": "code",
   "execution_count": null,
   "metadata": {},
   "outputs": [],
   "source": [
    "spark = SparkSession.builder \\\n",
    "        .master(\"local[4]\") \\\n",
    "        .config(\"spark.driver.memory\", \"4g\") \\\n",
    "        .config(\"spark.executor.memory\", \"4g\") \\\n",
    "        .appName(\"insiders\") \\\n",
    "        .getOrCreate()"
   ]
  },
  {
   "cell_type": "code",
   "execution_count": 5,
   "metadata": {},
   "outputs": [],
   "source": [
    "df_raw = spark.read.format(\"csv\").option(\"header\", \"true\").option(\"inferSchema\" , \"true\").load(data_path)\n",
    "\n",
    "df_raw = df_raw.select(base_columns)"
   ]
  },
  {
   "cell_type": "code",
   "execution_count": 12,
   "metadata": {},
   "outputs": [],
   "source": [
    "# Simulation with \"New\" Clients\n",
    "\n",
    "df_raw = df_raw.filter(\n",
    "    pf.col(\"CustomerID\").isin(\n",
    "        [17389,15447,14450,13623,\n",
    "         13285,16339,14570,16386,15100]\n",
    "    )\n",
    ") "
   ]
  },
  {
   "cell_type": "code",
   "execution_count": 13,
   "metadata": {},
   "outputs": [
    {
     "name": "stdout",
     "output_type": "stream",
     "text": [
      "+---------+---------+--------------------+--------+-----------+---------+----------+--------------+\n",
      "|InvoiceNo|StockCode|         Description|Quantity|InvoiceDate|UnitPrice|CustomerID|       Country|\n",
      "+---------+---------+--------------------+--------+-----------+---------+----------+--------------+\n",
      "|   536374|    21258|VICTORIAN SEWING ...|      32|  29-Nov-16|    10.95|     15100|United Kingdom|\n",
      "|  C537656|    21258|VICTORIAN SEWING ...|     -12|   5-Dec-16|    10.95|     15100|United Kingdom|\n",
      "|   537767|    21258|VICTORIAN SEWING ...|      32|   6-Dec-16|    10.95|     15100|United Kingdom|\n",
      "|  C539260|    21258|VICTORIAN SEWING ...|      -7|  14-Dec-16|    10.95|     15100|United Kingdom|\n",
      "|  C540109|   85071A|BLUE CHARLIE+LOLA...|    -150|   2-Jan-17|     2.95|     17389|United Kingdom|\n",
      "+---------+---------+--------------------+--------+-----------+---------+----------+--------------+\n",
      "only showing top 5 rows\n",
      "\n"
     ]
    }
   ],
   "source": [
    "df_raw.show(5)"
   ]
  },
  {
   "cell_type": "markdown",
   "metadata": {},
   "source": [
    "## 1.0. Data Preprocessing"
   ]
  },
  {
   "cell_type": "markdown",
   "metadata": {},
   "source": [
    "### 1.1. Rename Columns"
   ]
  },
  {
   "cell_type": "code",
   "execution_count": 14,
   "metadata": {},
   "outputs": [],
   "source": [
    "df1 = df_raw.select([pf.col(k).alias(k.lower().replace(\" \", \"_\").strip()) for k in df_raw.columns])"
   ]
  },
  {
   "cell_type": "markdown",
   "metadata": {},
   "source": [
    "### 1.2. Change Dtypes"
   ]
  },
  {
   "cell_type": "code",
   "execution_count": 15,
   "metadata": {},
   "outputs": [
    {
     "name": "stdout",
     "output_type": "stream",
     "text": [
      "root\n",
      " |-- invoiceno: string (nullable = true)\n",
      " |-- stockcode: string (nullable = true)\n",
      " |-- description: string (nullable = true)\n",
      " |-- quantity: integer (nullable = true)\n",
      " |-- invoicedate: string (nullable = true)\n",
      " |-- unitprice: double (nullable = true)\n",
      " |-- customerid: integer (nullable = true)\n",
      " |-- country: string (nullable = true)\n",
      "\n"
     ]
    }
   ],
   "source": [
    "df1.printSchema()"
   ]
  },
  {
   "cell_type": "code",
   "execution_count": 16,
   "metadata": {},
   "outputs": [],
   "source": [
    "df1 = df1.withColumn(\n",
    "    \"invoicedate\",\n",
    "    pf.to_date(pf.unix_timestamp(pf.col(\"invoicedate\"), \"d-MMM-yy\").cast(\"timestamp\"))\n",
    ")"
   ]
  },
  {
   "cell_type": "markdown",
   "metadata": {},
   "source": [
    "### 1.3. Fill Missing Values"
   ]
  },
  {
   "cell_type": "code",
   "execution_count": 17,
   "metadata": {},
   "outputs": [
    {
     "name": "stdout",
     "output_type": "stream",
     "text": [
      "+---------+---------+-----------+--------+-----------+---------+----------+-------+\n",
      "|invoiceno|stockcode|description|quantity|invoicedate|unitprice|customerid|country|\n",
      "+---------+---------+-----------+--------+-----------+---------+----------+-------+\n",
      "|        0|        0|          0|       0|          0|        0|         0|      0|\n",
      "+---------+---------+-----------+--------+-----------+---------+----------+-------+\n",
      "\n"
     ]
    }
   ],
   "source": [
    "df1.select(\n",
    "    [pf.count(pf.when(pf.isnull(pf.col(k)), 1)).alias(k) for k in df1.columns]\n",
    ").show(2)"
   ]
  },
  {
   "cell_type": "code",
   "execution_count": 20,
   "metadata": {},
   "outputs": [],
   "source": [
    "# Remove Description and customer id null :(\n",
    "df1 = df1.filter(\n",
    "    pf.col(\"customerid\").isNotNull() &\n",
    "    pf.col(\"description\").isNotNull()\n",
    ")"
   ]
  },
  {
   "cell_type": "markdown",
   "metadata": {},
   "source": [
    "### 1.4. Normalization Rows"
   ]
  },
  {
   "cell_type": "code",
   "execution_count": 21,
   "metadata": {},
   "outputs": [],
   "source": [
    "for col in [k.name for k in df1.schema if k.dataType.typeName() in ['string']]:\n",
    "    df1 = df1.withColumn(\n",
    "        col,\n",
    "        pf.regexp_replace(pf.lower(pf.trim(pf.col(col))), \" \", \"_\")\n",
    "    )"
   ]
  },
  {
   "cell_type": "markdown",
   "metadata": {},
   "source": [
    "## 2.0. Business Data Filtering"
   ]
  },
  {
   "cell_type": "markdown",
   "metadata": {},
   "source": [
    "### 2.1. Filtering Rows and Columns"
   ]
  },
  {
   "cell_type": "code",
   "execution_count": 23,
   "metadata": {},
   "outputs": [],
   "source": [
    "filter_stock_codes = ['l', 'm', 'bank_charges', 'd', 'c', '', 'post', 'pads', 'dot', 'cruk']"
   ]
  },
  {
   "cell_type": "code",
   "execution_count": 24,
   "metadata": {},
   "outputs": [],
   "source": [
    "df1 = df1.select(\n",
    "    \"invoiceno\",\n",
    "    \"stockcode\",\n",
    "    \"quantity\",\n",
    "    \"invoicedate\",\n",
    "    \"unitprice\",\n",
    "    \"customerid\",\n",
    "    \"country\"\n",
    ").filter(\n",
    "    (pf.col(\"unitprice\") > 0.04) &\n",
    "    (~pf.col(\"stockcode\").isin(filter_stock_codes)) &\n",
    "    (~pf.col(\"country\").isin([\"european_community\", \"unspecified\"])) & \n",
    "    (~pf.col(\"customerid\").isin(\n",
    "        [16446, 12346, 15749, 15098, 15749]\n",
    "    ))\n",
    ")"
   ]
  },
  {
   "cell_type": "code",
   "execution_count": 25,
   "metadata": {},
   "outputs": [],
   "source": [
    "df2_returns = df1.filter(pf.col(\"quantity\") < 0)\n",
    "df2_purchases = df1.filter(pf.col(\"quantity\") > 0)"
   ]
  },
  {
   "cell_type": "markdown",
   "metadata": {},
   "source": [
    "## 3.0. Feature Engineering"
   ]
  },
  {
   "cell_type": "code",
   "execution_count": 37,
   "metadata": {},
   "outputs": [],
   "source": [
    "df_ref = df1.select(\"customerid\").distinct()"
   ]
  },
  {
   "cell_type": "markdown",
   "metadata": {},
   "source": [
    "### 3.1. Gross Revenue"
   ]
  },
  {
   "cell_type": "markdown",
   "metadata": {},
   "source": [
    "Unit price * quantity"
   ]
  },
  {
   "cell_type": "code",
   "execution_count": 38,
   "metadata": {},
   "outputs": [],
   "source": [
    "df2_purchases = df2_purchases.withColumn(\n",
    "    \"gross_revenue\",\n",
    "    pf.round(pf.col(\"quantity\") * pf.col(\"unitprice\"), 3)\n",
    ")\n",
    "\n",
    "df_gross_revenue = df2_purchases.groupBy(\"customerid\").agg(pf.sum(pf.col(\"gross_revenue\")).alias(\"gross_revenue\"))\n",
    "\n",
    "df_ref = df_ref.join(df_gross_revenue, on=\"customerid\", how=\"left\")"
   ]
  },
  {
   "cell_type": "markdown",
   "metadata": {},
   "source": [
    "### 3.2. Recency"
   ]
  },
  {
   "cell_type": "markdown",
   "metadata": {},
   "source": [
    "Quantity of days util last purchase"
   ]
  },
  {
   "cell_type": "code",
   "execution_count": 39,
   "metadata": {},
   "outputs": [],
   "source": [
    "df_recency = df2_purchases.groupBy(\"customerid\").agg(pf.max(pf.col(\"invoicedate\")).alias(\"last_purchase\"))\n",
    "\n",
    "df_recency = df_recency.withColumn(\n",
    "    \"max_invoicedate\",\n",
    "    pf.lit(df2_purchases.select(pf.max(pf.col(\"invoicedate\"))).collect()[0][0])\n",
    ")\n",
    "\n",
    "df_recency = df_recency.withColumn(\n",
    "    \"recency_days\",\n",
    "    pf.datediff(pf.col(\"max_invoicedate\"), pf.col(\"last_purchase\"))\n",
    ")\n",
    "\n",
    "df_ref = df_ref.join(df_recency.select(\"customerid\", \"recency_days\"), on=\"customerid\", how=\"left\")"
   ]
  },
  {
   "cell_type": "markdown",
   "metadata": {},
   "source": [
    "### 3.3. Sum of Item Quantity Purchase"
   ]
  },
  {
   "cell_type": "code",
   "execution_count": 40,
   "metadata": {},
   "outputs": [],
   "source": [
    "df_qtd_items = df2_purchases.groupBy(\"customerid\").agg(pf.sum(pf.col(\"quantity\")).alias(\"qtde_total_items\"))\n",
    "\n",
    "df_ref = df_ref.join(df_qtd_items, on=\"customerid\", how=\"left\")"
   ]
  },
  {
   "cell_type": "markdown",
   "metadata": {},
   "source": [
    "### 3.4. Qtd Returns"
   ]
  },
  {
   "cell_type": "code",
   "execution_count": 41,
   "metadata": {},
   "outputs": [],
   "source": [
    "df_returns = df2_returns.groupBy(\"customerid\").agg(pf.sum(\"quantity\").alias(\"qtde_returns\"))\n",
    "\n",
    "df_returns = df_returns.withColumn(\n",
    "    \"qtde_returns\",\n",
    "    pf.col(\"qtde_returns\") * -1\n",
    ")\n",
    "\n",
    "df_ref = df_ref.join(df_returns, on=\"customerid\", how=\"left\")"
   ]
  },
  {
   "cell_type": "markdown",
   "metadata": {},
   "source": [
    "### 3.5. Quantity of Invoices"
   ]
  },
  {
   "cell_type": "code",
   "execution_count": 42,
   "metadata": {},
   "outputs": [],
   "source": [
    "df_invoices = df2_purchases.groupBy(\"customerid\").agg(pf.count_distinct(pf.col(\"invoiceno\")).alias(\"qtde_invoices\"))\n",
    "\n",
    "df_ref = df_ref.join(df_invoices, on=\"customerid\", how=\"left\")"
   ]
  },
  {
   "cell_type": "markdown",
   "metadata": {},
   "source": [
    "### 3.6. Check Null Values"
   ]
  },
  {
   "cell_type": "code",
   "execution_count": 43,
   "metadata": {},
   "outputs": [
    {
     "name": "stderr",
     "output_type": "stream",
     "text": [
      "                                                                                \r"
     ]
    },
    {
     "name": "stdout",
     "output_type": "stream",
     "text": [
      "+----------+------------------+------------+----------------+------------+-------------+\n",
      "|customerid|     gross_revenue|recency_days|qtde_total_items|qtde_returns|qtde_invoices|\n",
      "+----------+------------------+------------+----------------+------------+-------------+\n",
      "|     17389|31833.679999999993|           0|            7612|         170|           34|\n",
      "|     15447|            155.17|         330|              85|        null|            1|\n",
      "|     14450|            483.25|         180|             241|        null|            3|\n",
      "|     13623| 747.7800000000001|          30|             294|           4|            5|\n",
      "|     13285|2709.1199999999994|          23|            2051|        null|            4|\n",
      "|     16339|109.95000000000002|         284|              23|        null|            1|\n",
      "|     14570| 217.2099999999999|         280|              94|        null|            2|\n",
      "|     16386|             317.2|          28|             224|        null|            2|\n",
      "|     15100|             876.0|         333|              80|          22|            3|\n",
      "+----------+------------------+------------+----------------+------------+-------------+\n",
      "\n"
     ]
    }
   ],
   "source": [
    "df_ref.show()"
   ]
  },
  {
   "cell_type": "code",
   "execution_count": 45,
   "metadata": {},
   "outputs": [],
   "source": [
    "# If returns is none, the customer never returned nothing\n",
    "df_ref = df_ref.na.fill(value=0, subset=[\"qtde_returns\"])"
   ]
  },
  {
   "cell_type": "code",
   "execution_count": 47,
   "metadata": {},
   "outputs": [],
   "source": [
    "df_ref = df_ref.filter((~pf.isnull(pf.col(\"gross_revenue\"))))"
   ]
  },
  {
   "cell_type": "code",
   "execution_count": null,
   "metadata": {},
   "outputs": [],
   "source": [
    "df_ref.select(\n",
    "    [pf.count(pf.when(pf.isnull(pf.col(k)), 1)).alias(k) for k in df_ref.columns]\n",
    ").show()"
   ]
  },
  {
   "cell_type": "code",
   "execution_count": null,
   "metadata": {},
   "outputs": [],
   "source": [
    "df_ref = df_ref.select(\n",
    "    [\"customerid\",\n",
    "    \"gross_revenue\",\n",
    "    \"recency_days\",\n",
    "    \"qtde_total_items\",\n",
    "    \"qtde_returns\",\n",
    "    \"qtde_invoices\"]\n",
    ")"
   ]
  },
  {
   "cell_type": "markdown",
   "metadata": {},
   "source": [
    "## 4.0. Data Preparation"
   ]
  },
  {
   "cell_type": "code",
   "execution_count": 49,
   "metadata": {},
   "outputs": [],
   "source": [
    "df4 = df_ref.select([pf.col(k) for k in df_ref.columns])"
   ]
  },
  {
   "cell_type": "code",
   "execution_count": 73,
   "metadata": {},
   "outputs": [
    {
     "name": "stderr",
     "output_type": "stream",
     "text": [
      "                                                                                \r"
     ]
    },
    {
     "name": "stdout",
     "output_type": "stream",
     "text": [
      "+--------------------+----------+------------------+\n",
      "|            features|customerid|     gross_revenue|\n",
      "+--------------------+----------+------------------+\n",
      "|[-0.4032258064516...|     17389|31833.679999999993|\n",
      "|[2.25806451612903...|     15447|            155.17|\n",
      "+--------------------+----------+------------------+\n",
      "only showing top 2 rows\n",
      "\n"
     ]
    }
   ],
   "source": [
    "df4_tree = apply_robust_scaler(df4, df4.columns[2:])\n",
    "df4_tree = apply_vectorizing(df4_tree, [\"features\", \"customerid\", \"gross_revenue\"])\n",
    "df4_tree.show(2)"
   ]
  },
  {
   "cell_type": "code",
   "execution_count": 74,
   "metadata": {},
   "outputs": [
    {
     "name": "stderr",
     "output_type": "stream",
     "text": [
      "                                                                                \r"
     ]
    },
    {
     "name": "stdout",
     "output_type": "stream",
     "text": [
      "+--------------------------------------------------------------------------------+----------+\n",
      "|features                                                                        |customerid|\n",
      "+--------------------------------------------------------------------------------+----------+\n",
      "|[23.59482190847495,-0.4032258064516129,8.779126213592232,56.666666666666664,8.0]|17389     |\n",
      "|[-0.3867898103637533,2.258064516129032,-0.3555825242718446,0.0,-0.25]           |15447     |\n",
      "+--------------------------------------------------------------------------------+----------+\n",
      "only showing top 2 rows\n",
      "\n"
     ]
    }
   ],
   "source": [
    "df4_cluster = apply_robust_scaler(df4, df4.columns[1:])\n",
    "df4_cluster = apply_vectorizing(df4_cluster)\n",
    "df4_cluster.show(2, truncate=False)"
   ]
  },
  {
   "cell_type": "markdown",
   "metadata": {},
   "source": [
    "## 5.0. Get Random Forest Indices"
   ]
  },
  {
   "cell_type": "code",
   "execution_count": 80,
   "metadata": {},
   "outputs": [],
   "source": [
    "rf2 = RandomForestRegressionModel.load(\"../src/features/random_forest_model.spark\")\n",
    "\n",
    "# Get Tree Indices\n",
    "df_leaf = rf2.transform(\n",
    "    df4_tree.select(\"features\", \"gross_revenue\", \"customerid\"), \n",
    "    {rf2.leafCol: \"leaf_indices\"}\n",
    ")\n",
    "\n",
    "df_leaf.select(\"customerid\", \"leaf_indices\").show(2, truncate=False)"
   ]
  },
  {
   "cell_type": "markdown",
   "metadata": {},
   "source": [
    "Do not exists umap in pyspark, i need to use pandas and external package"
   ]
  },
  {
   "cell_type": "code",
   "execution_count": 82,
   "metadata": {},
   "outputs": [
    {
     "name": "stderr",
     "output_type": "stream",
     "text": [
      "                                                                                \r"
     ]
    }
   ],
   "source": [
    "# Convert Leaf vector in Pandas dataframe\n",
    "df_leaf_pandas = pd.DataFrame([np.array(k[0]) for k in df_leaf.select(\"leaf_indices\").collect()])\n",
    "\n",
    "# Get customerid\n",
    "df_leaf_customer_pandas = df_leaf.select(\"customerid\").toPandas()\n",
    "\n",
    "# Concat Values\n",
    "df_leaf_pandas = pd.concat([df_leaf_pandas, df_leaf_customer_pandas], axis=1)\n",
    "\n",
    "df_leaf_pandas.head(2)"
   ]
  },
  {
   "cell_type": "markdown",
   "metadata": {},
   "source": [
    "### 5.1. Get Umap Reducer"
   ]
  },
  {
   "cell_type": "code",
   "execution_count": 85,
   "metadata": {},
   "outputs": [],
   "source": [
    "reducer = pickle.load(open(\"../src/features/umap_reducer.pickle\", \"rb\"))\n",
    "\n",
    "embs = reducer.transform(df_leaf_pandas.iloc[:, :-1])\n",
    "embs = pd.DataFrame(embs)\n",
    "\n",
    "embs_with_customer = pd.concat([embs, df_leaf_pandas[[\"customerid\"]]], axis=1)\n",
    "\n",
    "embs_with_customer.head()"
   ]
  },
  {
   "cell_type": "code",
   "execution_count": 88,
   "metadata": {},
   "outputs": [
    {
     "data": {
      "image/png": "[encoded data removed]",
      "text/plain": [
       "<Figure size 640x480 with 1 Axes>"
      ]
     },
     "metadata": {},
     "output_type": "display_data"
    }
   ],
   "source": [
    "fig = plt.figure()\n",
    "ax = fig.add_subplot(projection='3d')\n",
    "ax.scatter(embs[0], embs[1], embs[2]);\n",
    "ax.set_title(\"Embedding Customers Space\");"
   ]
  },
  {
   "cell_type": "markdown",
   "metadata": {},
   "source": [
    "### 5.2. Vectorize New Space"
   ]
  },
  {
   "cell_type": "code",
   "execution_count": 90,
   "metadata": {},
   "outputs": [],
   "source": [
    "df5 = spark.createDataFrame(embs_with_customer)\n",
    "\n",
    "vec = VectorAssembler(\n",
    "    inputCols=[\"0\", \"1\", \"2\"],\n",
    "    outputCol=\"features\"\n",
    ")\n",
    "\n",
    "df5 = vec.transform(df5).select(\"features\", \"customerid\")"
   ]
  },
  {
   "cell_type": "markdown",
   "metadata": {},
   "source": [
    "## 6.0. Get Cluster Indices"
   ]
  },
  {
   "cell_type": "code",
   "execution_count": 92,
   "metadata": {},
   "outputs": [],
   "source": [
    "gmm_tuned = GaussianMixtureModel.load(\"../src/features/gmm_tuned.spark\")\n",
    "\n",
    "df_clusters_tuned = gmm_tuned.transform(df5)\n",
    "\n",
    "df_clusters_tuned = df_clusters_tuned.select(\"customerid\", \"cluster\")"
   ]
  },
  {
   "cell_type": "code",
   "execution_count": 97,
   "metadata": {},
   "outputs": [
    {
     "name": "stdout",
     "output_type": "stream",
     "text": [
      "+----------+-------+\n",
      "|customerid|cluster|\n",
      "+----------+-------+\n",
      "|     17389|      2|\n",
      "|     15447|      5|\n",
      "|     14450|      1|\n",
      "|     13623|      4|\n",
      "|     13285|      4|\n",
      "|     16339|      5|\n",
      "|     14570|      7|\n",
      "|     16386|      7|\n",
      "|     15100|      3|\n",
      "+----------+-------+\n",
      "\n"
     ]
    }
   ],
   "source": [
    "df_clusters_tuned.show()"
   ]
  }
 ],
 "metadata": {
  "kernelspec": {
   "display_name": "Python 3 (ipykernel)",
   "language": "python",
   "name": "python3"
  },
  "language_info": {
   "codemirror_mode": {
    "name": "ipython",
    "version": 3
   },
   "file_extension": ".py",
   "mimetype": "text/x-python",
   "name": "python",
   "nbconvert_exporter": "python",
   "pygments_lexer": "ipython3",
   "version": "3.10.12"
  }
 },
 "nbformat": 4,
 "nbformat_minor": 4
}
