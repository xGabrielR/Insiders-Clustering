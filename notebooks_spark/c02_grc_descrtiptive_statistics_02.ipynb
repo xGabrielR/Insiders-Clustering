{
 "cells": [
  {
   "cell_type": "markdown",
   "metadata": {},
   "source": [
    "## 0.0. Requirements"
   ]
  },
  {
   "cell_type": "markdown",
   "metadata": {},
   "source": [
    "### 0.1. Imports"
   ]
  },
  {
   "cell_type": "code",
   "execution_count": 104,
   "metadata": {},
   "outputs": [],
   "source": [
    "import seaborn as sns\n",
    "from matplotlib import pyplot as plt\n",
    "\n",
    "from pandas_profiling import ProfileReport\n",
    "\n",
    "from pyspark.sql import types\n",
    "from pyspark.sql import SparkSession\n",
    "from pyspark.sql import functions as pf"
   ]
  },
  {
   "cell_type": "markdown",
   "metadata": {},
   "source": [
    "### 0.2. Aux Functions"
   ]
  },
  {
   "cell_type": "code",
   "execution_count": 105,
   "metadata": {},
   "outputs": [],
   "source": [
    "def plot_simple_customer_statistics(df, customerid):\n",
    "    df_max_gross = df.filter(pf.col(\"customerid\") == customerid)\n",
    "\n",
    "    df_max_gross.groupBy(\"customerid\").agg(\n",
    "        pf.min(pf.col(\"unitprice\")).alias(\"min_product_price\"), \n",
    "        pf.max(pf.col(\"unitprice\")).alias(\"max_product_price\"),\n",
    "        pf.sum(pf.col(\"quantity\")).alias(\"total_itens\"),\n",
    "        pf.count_distinct(pf.col(\"stockcode\")).alias(\"unique_stockcodes\"),\n",
    "        pf.count_distinct(pf.col(\"invoiceno\")).alias(\"unique_invoiceno\"),\n",
    "        pf.min(pf.col(\"invoicedate\")).alias(\"first_purchase\"),\n",
    "        pf.max(pf.col(\"invoicedate\")).alias(\"last_purchase\")\n",
    "    ).show()"
   ]
  },
  {
   "cell_type": "markdown",
   "metadata": {},
   "source": [
    "### 0.3. Read Data"
   ]
  },
  {
   "cell_type": "code",
   "execution_count": 106,
   "metadata": {},
   "outputs": [],
   "source": [
    "base_columns = [\n",
    "    \"InvoiceNo\",\n",
    "    \"StockCode\",\n",
    "    \"Description\",\n",
    "    \"Quantity\",\n",
    "    \"InvoiceDate\",\n",
    "    \"UnitPrice\",\n",
    "    \"CustomerID\",\n",
    "    \"Country\"\n",
    "]\n",
    "\n",
    "data_path = \"/home/grc/arep/insiders_clustering/data/Ecommerce.csv\""
   ]
  },
  {
   "cell_type": "code",
   "execution_count": 107,
   "metadata": {},
   "outputs": [],
   "source": [
    "spark = SparkSession.builder \\\n",
    "        .master(\"local[4]\") \\\n",
    "        .config(\"spark.driver.memory\", \"4g\") \\\n",
    "        .config(\"spark.executor.memory\", \"4g\") \\\n",
    "        .appName(\"insiders\") \\\n",
    "        .getOrCreate()"
   ]
  },
  {
   "cell_type": "code",
   "execution_count": 108,
   "metadata": {},
   "outputs": [],
   "source": [
    "df_raw = spark.read.format(\"csv\").option(\"header\", \"true\").option(\"inferSchema\" , \"true\").load(data_path)\n",
    "\n",
    "df_raw = df_raw.select(base_columns)"
   ]
  },
  {
   "cell_type": "code",
   "execution_count": 109,
   "metadata": {},
   "outputs": [
    {
     "name": "stdout",
     "output_type": "stream",
     "text": [
      "+---------+---------+--------------------+--------+-----------+---------+----------+--------------+\n",
      "|InvoiceNo|StockCode|         Description|Quantity|InvoiceDate|UnitPrice|CustomerID|       Country|\n",
      "+---------+---------+--------------------+--------+-----------+---------+----------+--------------+\n",
      "|   536365|   85123A|WHITE HANGING HEA...|       6|  29-Nov-16|     2.55|     17850|United Kingdom|\n",
      "|   536365|    71053| WHITE METAL LANTERN|       6|  29-Nov-16|     3.39|     17850|United Kingdom|\n",
      "|   536365|   84406B|CREAM CUPID HEART...|       8|  29-Nov-16|     2.75|     17850|United Kingdom|\n",
      "|   536365|   84029G|KNITTED UNION FLA...|       6|  29-Nov-16|     3.39|     17850|United Kingdom|\n",
      "|   536365|   84029E|RED WOOLLY HOTTIE...|       6|  29-Nov-16|     3.39|     17850|United Kingdom|\n",
      "+---------+---------+--------------------+--------+-----------+---------+----------+--------------+\n",
      "only showing top 5 rows\n",
      "\n"
     ]
    }
   ],
   "source": [
    "df_raw.show(5)"
   ]
  },
  {
   "cell_type": "markdown",
   "metadata": {},
   "source": [
    "## 1.0. Descriptive Statistics"
   ]
  },
  {
   "cell_type": "markdown",
   "metadata": {},
   "source": [
    "### 1.1. Rename Columns"
   ]
  },
  {
   "cell_type": "code",
   "execution_count": 110,
   "metadata": {},
   "outputs": [],
   "source": [
    "df1 = df_raw.select([pf.col(k).alias(k.lower().replace(\" \", \"_\").strip()) for k in df_raw.columns])"
   ]
  },
  {
   "cell_type": "markdown",
   "metadata": {},
   "source": [
    "### 1.2. Change Dtypes"
   ]
  },
  {
   "cell_type": "code",
   "execution_count": 111,
   "metadata": {},
   "outputs": [
    {
     "name": "stdout",
     "output_type": "stream",
     "text": [
      "root\n",
      " |-- invoiceno: string (nullable = true)\n",
      " |-- stockcode: string (nullable = true)\n",
      " |-- description: string (nullable = true)\n",
      " |-- quantity: integer (nullable = true)\n",
      " |-- invoicedate: string (nullable = true)\n",
      " |-- unitprice: double (nullable = true)\n",
      " |-- customerid: integer (nullable = true)\n",
      " |-- country: string (nullable = true)\n",
      "\n"
     ]
    }
   ],
   "source": [
    "df1.printSchema()"
   ]
  },
  {
   "cell_type": "code",
   "execution_count": 112,
   "metadata": {},
   "outputs": [],
   "source": [
    "df1 = df1.withColumn(\n",
    "    \"invoicedate\",\n",
    "    pf.to_date(pf.unix_timestamp(pf.col(\"invoicedate\"), \"d-MMM-yy\").cast(\"timestamp\"))\n",
    ")"
   ]
  },
  {
   "cell_type": "markdown",
   "metadata": {},
   "source": [
    "### 1.3. Fill Missing Values"
   ]
  },
  {
   "cell_type": "code",
   "execution_count": 113,
   "metadata": {},
   "outputs": [
    {
     "name": "stdout",
     "output_type": "stream",
     "text": [
      "+---------+---------+-----------+--------+-----------+---------+----------+-------+\n",
      "|invoiceno|stockcode|description|quantity|invoicedate|unitprice|customerid|country|\n",
      "+---------+---------+-----------+--------+-----------+---------+----------+-------+\n",
      "|        0|        0|       1454|       0|          0|        0|    135080|      0|\n",
      "+---------+---------+-----------+--------+-----------+---------+----------+-------+\n",
      "\n"
     ]
    }
   ],
   "source": [
    "df1.select(\n",
    "    [pf.count(pf.when(pf.isnull(pf.col(k)), 1)).alias(k) for k in df1.columns]\n",
    ").show(2)"
   ]
  },
  {
   "cell_type": "code",
   "execution_count": 114,
   "metadata": {},
   "outputs": [
    {
     "name": "stdout",
     "output_type": "stream",
     "text": [
      "+---------+---------+-----------+--------+-----------+---------+----------+--------------+\n",
      "|invoiceno|stockcode|description|quantity|invoicedate|unitprice|customerid|       country|\n",
      "+---------+---------+-----------+--------+-----------+---------+----------+--------------+\n",
      "|   536414|    22139|       null|      56| 2016-11-29|      0.0|      null|United Kingdom|\n",
      "|   536545|    21134|       null|       1| 2016-11-29|      0.0|      null|United Kingdom|\n",
      "+---------+---------+-----------+--------+-----------+---------+----------+--------------+\n",
      "only showing top 2 rows\n",
      "\n"
     ]
    }
   ],
   "source": [
    "df1.filter(pf.isnull(pf.col(\"description\"))).show(2)"
   ]
  },
  {
   "cell_type": "code",
   "execution_count": 115,
   "metadata": {},
   "outputs": [
    {
     "name": "stdout",
     "output_type": "stream",
     "text": [
      "+---------+---------+--------------------+--------+-----------+---------+----------+--------------+\n",
      "|invoiceno|stockcode|         description|quantity|invoicedate|unitprice|customerid|       country|\n",
      "+---------+---------+--------------------+--------+-----------+---------+----------+--------------+\n",
      "|   536414|    22139|                null|      56| 2016-11-29|      0.0|      null|United Kingdom|\n",
      "|   536544|    21773|DECORATIVE ROSE B...|       1| 2016-11-29|     2.51|      null|United Kingdom|\n",
      "+---------+---------+--------------------+--------+-----------+---------+----------+--------------+\n",
      "only showing top 2 rows\n",
      "\n"
     ]
    }
   ],
   "source": [
    "df1.filter(pf.isnull(pf.col(\"customerid\"))).show(2)"
   ]
  },
  {
   "cell_type": "code",
   "execution_count": 116,
   "metadata": {},
   "outputs": [],
   "source": [
    "# Remove Description and customer id null :(\n",
    "df1 = df1.filter(\n",
    "    pf.col(\"customerid\").isNotNull() &\n",
    "    pf.col(\"description\").isNotNull()\n",
    ")"
   ]
  },
  {
   "cell_type": "markdown",
   "metadata": {},
   "source": [
    "### 1.4. Normalization Rows"
   ]
  },
  {
   "cell_type": "code",
   "execution_count": 117,
   "metadata": {},
   "outputs": [],
   "source": [
    "for col in [k.name for k in df1.schema if k.dataType.typeName() in ['string']]:\n",
    "    df1 = df1.withColumn(\n",
    "        col,\n",
    "        pf.regexp_replace(pf.lower(pf.trim(pf.col(col))), \" \", \"_\")\n",
    "    )"
   ]
  },
  {
   "cell_type": "markdown",
   "metadata": {},
   "source": [
    "### 1.5. Descriptive Statistics"
   ]
  },
  {
   "cell_type": "markdown",
   "metadata": {},
   "source": [
    "#### 1.5.1. Numeric Attributes"
   ]
  },
  {
   "cell_type": "code",
   "execution_count": 118,
   "metadata": {},
   "outputs": [],
   "source": [
    "df_numeric = df1.select([k.name for k in df1.schema if k.dataType.typeName() in ['double', 'integer']])"
   ]
  },
  {
   "cell_type": "code",
   "execution_count": 119,
   "metadata": {},
   "outputs": [],
   "source": [
    "df_c_distinct = df_numeric.select([pf.count_distinct(pf.col(k)).alias(k) for k in df_numeric.columns])\n",
    "df_c_distinct = df_c_distinct.withColumn(\"summary\", pf.lit(\"count_distinct\"))\n",
    "df_c_distinct = df_c_distinct.select([\"summary\"] + df_numeric.columns)\n",
    "\n",
    "df_median = df_numeric.select([pf.median(pf.col(k)).alias(k) for k in  df_numeric.columns])\n",
    "df_median = df_median.withColumn(\"summary\", pf.lit(\"median\"))\n",
    "df_median = df_median.select([\"summary\"] + df_numeric.columns)\n",
    "\n",
    "df_skewness = df_numeric.select([pf.skewness(pf.col(k)).alias(k) for k in df_numeric.columns])\n",
    "df_skewness = df_skewness.withColumn(\"summary\", pf.lit(\"skewness\"))\n",
    "df_skewness = df_skewness.select([\"summary\"] + df_numeric.columns)\n",
    "\n",
    "df_kurtosis = df_numeric.select([pf.kurtosis(pf.col(k)).alias(k) for k in df_numeric.columns])\n",
    "df_kurtosis = df_kurtosis.withColumn(\"summary\", pf.lit(\"kurtosis\"))\n",
    "df_kurtosis = df_kurtosis.select([\"summary\"] + df_numeric.columns)\n",
    "\n",
    "df_mode = df_numeric.select([pf.mode(pf.col(k)).alias(k) for k in df_numeric.columns])\n",
    "df_mode = df_mode.withColumn(\"summary\", pf.lit(\"mode\"))\n",
    "df_mode = df_mode.select([\"summary\"] + df_numeric.columns)"
   ]
  },
  {
   "cell_type": "code",
   "execution_count": 120,
   "metadata": {},
   "outputs": [
    {
     "name": "stderr",
     "output_type": "stream",
     "text": [
      "[Stage 1189:>               (0 + 4) / 4][Stage 1191:>               (0 + 0) / 1]\r"
     ]
    },
    {
     "name": "stdout",
     "output_type": "stream",
     "text": [
      "+--------------+-------------------+------------------+--------------------+\n",
      "|       summary|           quantity|         unitprice|          customerid|\n",
      "+--------------+-------------------+------------------+--------------------+\n",
      "|count_distinct|                436|               620|                4372|\n",
      "|         count|             406829|            406829|              406829|\n",
      "|          mean|  12.06130339774205| 3.460471018537621|  15287.690570239585|\n",
      "|        stddev| 248.69337001882548| 69.31516172321396|   1713.600303321593|\n",
      "|           min|             -80995|               0.0|               12346|\n",
      "|           max|              80995|           38970.0|               18287|\n",
      "|        median|                5.0|              1.95|             15152.0|\n",
      "|      skewness|0.18266199524826318|  452.217351341756|0.029834880048379368|\n",
      "|      kurtosis|  94316.40448314806|246921.50823746304| -1.1799826182500506|\n",
      "|          mode|                  1|              1.25|               17841|\n",
      "+--------------+-------------------+------------------+--------------------+\n",
      "\n"
     ]
    },
    {
     "name": "stderr",
     "output_type": "stream",
     "text": [
      "                                                                                \r"
     ]
    }
   ],
   "source": [
    "df_c_distinct.union(df_numeric.describe()).union(df_median).union(df_skewness).union(df_kurtosis).union(df_mode).show()"
   ]
  },
  {
   "cell_type": "code",
   "execution_count": 121,
   "metadata": {},
   "outputs": [
    {
     "data": {
      "image/png": "[encoded data removed]",
      "text/plain": [
       "<Figure size 1000x500 with 1 Axes>"
      ]
     },
     "metadata": {},
     "output_type": "display_data"
    },
    {
     "data": {
      "image/png": "[encoded data removed]",
      "text/plain": [
       "<Figure size 1000x500 with 1 Axes>"
      ]
     },
     "metadata": {},
     "output_type": "display_data"
    }
   ],
   "source": [
    "for k in ['quantity', 'unitprice']:\n",
    "    df_numeric.select(k).toPandas().hist(figsize=(10,5), bins=50);"
   ]
  },
  {
   "cell_type": "markdown",
   "metadata": {},
   "source": [
    "#### 1.5.2. Categorical Attributes"
   ]
  },
  {
   "cell_type": "code",
   "execution_count": 122,
   "metadata": {},
   "outputs": [],
   "source": [
    "df_categorical = df1.select([k.name for k in df1.schema if k.dataType.typeName() in ['string']])"
   ]
  },
  {
   "cell_type": "code",
   "execution_count": 123,
   "metadata": {},
   "outputs": [
    {
     "name": "stderr",
     "output_type": "stream",
     "text": [
      "[Stage 1219:==========================================>             (3 + 1) / 4]\r"
     ]
    },
    {
     "name": "stdout",
     "output_type": "stream",
     "text": [
      "+--------------+------------------+------------------+--------------------+---------+\n",
      "|       summary|         invoiceno|         stockcode|         description|  country|\n",
      "+--------------+------------------+------------------+--------------------+---------+\n",
      "|count_distinct|             22190|              3684|                3885|       37|\n",
      "|         count|            406829|            406829|              406829|   406829|\n",
      "|          mean| 560617.1266447864|27430.341352504624|                null|     null|\n",
      "|        stddev|13106.167694744545| 16403.57045262611|                null|     null|\n",
      "|           min|            536365|             10002|\"assorted_flower_...|australia|\n",
      "|           max|           c581569|              post|zinc_wire_sweethe...|      usa|\n",
      "+--------------+------------------+------------------+--------------------+---------+\n",
      "\n"
     ]
    },
    {
     "name": "stderr",
     "output_type": "stream",
     "text": [
      "                                                                                \r"
     ]
    }
   ],
   "source": [
    "df_c_distinct = df_categorical.select([pf.count_distinct(pf.col(k)).alias(k) for k in df_categorical.columns])\n",
    "df_c_distinct = df_c_distinct.withColumn(\"summary\", pf.lit(\"count_distinct\"))\n",
    "df_c_distinct = df_c_distinct.select([\"summary\"] + df_categorical.columns)\n",
    "\n",
    "df_c_distinct.union(df_categorical.describe()).show()"
   ]
  },
  {
   "cell_type": "markdown",
   "metadata": {},
   "source": [
    "##### 1.5.2.1. Stock Code"
   ]
  },
  {
   "cell_type": "code",
   "execution_count": 124,
   "metadata": {},
   "outputs": [
    {
     "name": "stdout",
     "output_type": "stream",
     "text": [
      "+------------+\n",
      "|   stockcode|\n",
      "+------------+\n",
      "|           l|\n",
      "|           m|\n",
      "|bank_charges|\n",
      "|           d|\n",
      "|           c|\n",
      "|            |\n",
      "|        post|\n",
      "|        pads|\n",
      "|         dot|\n",
      "|        cruk|\n",
      "+------------+\n",
      "\n"
     ]
    }
   ],
   "source": [
    "df_categorical.select(\n",
    "    pf.regexp_replace(\n",
    "        pf.regexp_replace(pf.col(\"stockcode\"), \"[0-9]+[a-z]\", \"\"),\n",
    "        \"[0-9]+\", \"\"\n",
    "    ).alias(\"stockcode\")\n",
    ").distinct().show()"
   ]
  },
  {
   "cell_type": "code",
   "execution_count": 125,
   "metadata": {},
   "outputs": [],
   "source": [
    "df_filter = df_categorical.select(\n",
    "    pf.regexp_replace(pf.col(\"stockcode\"), \"[0-9]+\", \"\")\n",
    ").distinct()"
   ]
  },
  {
   "cell_type": "code",
   "execution_count": 126,
   "metadata": {},
   "outputs": [
    {
     "name": "stdout",
     "output_type": "stream",
     "text": [
      "+--------------------------------------+\n",
      "|regexp_replace(stockcode, [0-9]+, , 1)|\n",
      "+--------------------------------------+\n",
      "|                                    bl|\n",
      "|                                     l|\n",
      "+--------------------------------------+\n",
      "\n"
     ]
    }
   ],
   "source": [
    "df_filter.filter(\n",
    "    pf.col(\"stockcode\").contains(\"l\")\n",
    ").distinct().show()"
   ]
  },
  {
   "cell_type": "code",
   "execution_count": 127,
   "metadata": {},
   "outputs": [],
   "source": [
    "filter_stock_codes = df_categorical.select(\n",
    "    pf.regexp_replace(\n",
    "        pf.regexp_replace(pf.col(\"stockcode\"), \"[0-9]+[a-z]\", \"\"),\n",
    "        \"[0-9]+\", \"\"\n",
    "    ).alias(\"stockcode\")\n",
    ").distinct().collect()\n",
    "\n",
    "filter_stock_codes = [k.asDict()[\"stockcode\"] for k in filter_stock_codes]"
   ]
  },
  {
   "cell_type": "markdown",
   "metadata": {},
   "source": [
    "##### 1.5.2.2. Invoice No"
   ]
  },
  {
   "cell_type": "code",
   "execution_count": 128,
   "metadata": {},
   "outputs": [
    {
     "name": "stdout",
     "output_type": "stream",
     "text": [
      "+---------+\n",
      "|invoiceno|\n",
      "+---------+\n",
      "|        c|\n",
      "|         |\n",
      "+---------+\n",
      "\n"
     ]
    }
   ],
   "source": [
    "df_categorical.select(\n",
    "    pf.regexp_replace(\n",
    "        pf.regexp_replace(pf.col(\"invoiceno\"), \"[0-9]+[a-z]\", \"\"),\n",
    "        \"[0-9]+\", \"\"\n",
    "    ).alias(\"invoiceno\")\n",
    ").distinct().show()"
   ]
  },
  {
   "cell_type": "code",
   "execution_count": 129,
   "metadata": {},
   "outputs": [
    {
     "name": "stdout",
     "output_type": "stream",
     "text": [
      "+---------+---------+--------------------+--------+-----------+---------+----------+--------------+\n",
      "|invoiceno|stockcode|         description|quantity|invoicedate|unitprice|customerid|       country|\n",
      "+---------+---------+--------------------+--------+-----------+---------+----------+--------------+\n",
      "|  c536379|        d|            discount|      -1| 2016-11-29|     27.5|     14527|united_kingdom|\n",
      "|  c536383|   35004c|set_of_3_coloured...|      -1| 2016-11-29|     4.65|     15311|united_kingdom|\n",
      "|  c536391|    22556|plasters_in_tin_c...|     -12| 2016-11-29|     1.65|     17548|united_kingdom|\n",
      "|  c536391|    21984|pack_of_12_pink_p...|     -24| 2016-11-29|     0.29|     17548|united_kingdom|\n",
      "|  c536391|    21983|pack_of_12_blue_p...|     -24| 2016-11-29|     0.29|     17548|united_kingdom|\n",
      "|  c536391|    21980|pack_of_12_red_re...|     -24| 2016-11-29|     0.29|     17548|united_kingdom|\n",
      "|  c536391|    21484|chick_grey_hot_wa...|     -12| 2016-11-29|     3.45|     17548|united_kingdom|\n",
      "|  c536391|    22557|plasters_in_tin_v...|     -12| 2016-11-29|     1.65|     17548|united_kingdom|\n",
      "|  c536391|    22553|plasters_in_tin_s...|     -24| 2016-11-29|     1.65|     17548|united_kingdom|\n",
      "|  c536506|    22960|jam_making_set_wi...|      -6| 2016-11-29|     4.25|     17897|united_kingdom|\n",
      "|  c536543|    22632|hand_warmer_red_r...|      -1| 2016-11-29|      2.1|     17841|united_kingdom|\n",
      "|  c536543|    22355|charlotte_bag_suk...|      -2| 2016-11-29|     0.85|     17841|united_kingdom|\n",
      "|  c536548|    22244|3_hook_hanger_mag...|      -4| 2016-11-29|     1.95|     12472|       germany|\n",
      "|  c536548|    22242|5_hook_hanger_mag...|      -5| 2016-11-29|     1.65|     12472|       germany|\n",
      "|  c536548|    20914|set/5_red_retrosp...|      -1| 2016-11-29|     2.95|     12472|       germany|\n",
      "|  c536548|    22892|set_of_salt_and_p...|      -7| 2016-11-29|     1.25|     12472|       germany|\n",
      "|  c536548|    22654|   deluxe_sewing_kit|      -1| 2016-11-29|     5.95|     12472|       germany|\n",
      "|  c536548|    22767|triple_photo_fram...|      -2| 2016-11-29|     9.95|     12472|       germany|\n",
      "|  c536548|    22333|retrospot_party_b...|      -1| 2016-11-29|     1.65|     12472|       germany|\n",
      "|  c536548|    22245|hook,_1_hanger_,m...|      -2| 2016-11-29|     0.85|     12472|       germany|\n",
      "+---------+---------+--------------------+--------+-----------+---------+----------+--------------+\n",
      "only showing top 20 rows\n",
      "\n"
     ]
    }
   ],
   "source": [
    "df1.filter(\n",
    "    pf.col(\"invoiceno\").contains(\"c\")\n",
    ").show()"
   ]
  },
  {
   "cell_type": "code",
   "execution_count": 130,
   "metadata": {},
   "outputs": [
    {
     "name": "stdout",
     "output_type": "stream",
     "text": [
      "+---------+--------+\n",
      "|invoiceno|quantity|\n",
      "+---------+--------+\n",
      "|  c538833|      -2|\n",
      "|  c539644|      -1|\n",
      "|  c540270|      -1|\n",
      "|  c542366|      -2|\n",
      "|  c542424|      -5|\n",
      "|  c545436|      -1|\n",
      "|  c538059|      -6|\n",
      "|  c538350|      -4|\n",
      "|  c539956|     -15|\n",
      "|  c542348|      -1|\n",
      "|  c542805|      -1|\n",
      "|  c543757|      -1|\n",
      "|  c544420|      -2|\n",
      "|  c545769|     -18|\n",
      "|  c546302|      -1|\n",
      "|  c546901|      -2|\n",
      "|  c548463|     -46|\n",
      "|  c548972|      -4|\n",
      "|  c537853|      -1|\n",
      "|  c539289|      -3|\n",
      "+---------+--------+\n",
      "only showing top 20 rows\n",
      "\n"
     ]
    },
    {
     "name": "stderr",
     "output_type": "stream",
     "text": [
      "                                                                                \r"
     ]
    }
   ],
   "source": [
    "df1.select([\"invoiceno\", \"quantity\"]).filter(\n",
    "    pf.col(\"invoiceno\").contains(\"c\")\n",
    ").distinct().show()"
   ]
  },
  {
   "cell_type": "code",
   "execution_count": 131,
   "metadata": {},
   "outputs": [
    {
     "name": "stdout",
     "output_type": "stream",
     "text": [
      "+---------+---------+-----------+--------+-----------+---------+----------+-------+\n",
      "|invoiceno|stockcode|description|quantity|invoicedate|unitprice|customerid|country|\n",
      "+---------+---------+-----------+--------+-----------+---------+----------+-------+\n",
      "+---------+---------+-----------+--------+-----------+---------+----------+-------+\n",
      "\n"
     ]
    }
   ],
   "source": [
    "df1.filter(\n",
    "    (pf.col(\"invoiceno\").contains(\"c\")) &\n",
    "    (pf.col(\"quantity\") >= 0)\n",
    ").show()"
   ]
  },
  {
   "cell_type": "markdown",
   "metadata": {},
   "source": [
    "##### 1.5.2.3. Country"
   ]
  },
  {
   "cell_type": "code",
   "execution_count": 132,
   "metadata": {},
   "outputs": [
    {
     "name": "stdout",
     "output_type": "stream",
     "text": [
      "+--------------+\n",
      "|       country|\n",
      "+--------------+\n",
      "|       finland|\n",
      "|     australia|\n",
      "|        greece|\n",
      "|      portugal|\n",
      "|        israel|\n",
      "|        poland|\n",
      "|       austria|\n",
      "|czech_republic|\n",
      "|       lebanon|\n",
      "|         japan|\n",
      "+--------------+\n",
      "only showing top 10 rows\n",
      "\n"
     ]
    }
   ],
   "source": [
    "df1.select(\"country\").distinct().show(10)"
   ]
  },
  {
   "cell_type": "code",
   "execution_count": 133,
   "metadata": {},
   "outputs": [
    {
     "name": "stdout",
     "output_type": "stream",
     "text": [
      "+--------------------+-----+\n",
      "|             country|count|\n",
      "+--------------------+-----+\n",
      "|        saudi_arabia|   10|\n",
      "|             bahrain|   17|\n",
      "|      czech_republic|   30|\n",
      "|              brazil|   32|\n",
      "|           lithuania|   35|\n",
      "|             lebanon|   45|\n",
      "|                 rsa|   58|\n",
      "|  european_community|   61|\n",
      "|united_arab_emirates|   68|\n",
      "|               malta|  127|\n",
      "|              greece|  146|\n",
      "|              canada|  151|\n",
      "|             iceland|  182|\n",
      "|           singapore|  229|\n",
      "|         unspecified|  244|\n",
      "|              israel|  250|\n",
      "|                 usa|  291|\n",
      "|              poland|  341|\n",
      "|               japan|  358|\n",
      "|             denmark|  389|\n",
      "+--------------------+-----+\n",
      "only showing top 20 rows\n",
      "\n"
     ]
    }
   ],
   "source": [
    "df1.groupBy(\"country\").count().orderBy(\"count\").show()"
   ]
  },
  {
   "cell_type": "markdown",
   "metadata": {},
   "source": [
    "## 2.0. Business Data Filtering"
   ]
  },
  {
   "cell_type": "markdown",
   "metadata": {},
   "source": [
    "### 2.1. Filtering Rows and Columns"
   ]
  },
  {
   "cell_type": "code",
   "execution_count": 134,
   "metadata": {},
   "outputs": [],
   "source": [
    "df2 = df1.select(\n",
    "    \"invoiceno\",\n",
    "    \"stockcode\",\n",
    "    \"quantity\",\n",
    "    \"invoicedate\",\n",
    "    \"unitprice\",\n",
    "    \"customerid\",\n",
    "    \"country\"\n",
    ").filter(\n",
    "    (pf.col(\"unitprice\") > 0.04) &\n",
    "    (~pf.col(\"stockcode\").isin(filter_stock_codes)) &\n",
    "    (~pf.col(\"country\").isin([\"european_community\", \"unspecified\"])) & \n",
    "    (~pf.col(\"customerid\").isin(\n",
    "        [16446, 12346, 15749, 15098, 15749]\n",
    "    ))\n",
    ")"
   ]
  },
  {
   "cell_type": "code",
   "execution_count": 135,
   "metadata": {},
   "outputs": [],
   "source": [
    "df2_returns = df2.filter(pf.col(\"quantity\") < 0)\n",
    "df2_purchases = df2.filter(pf.col(\"quantity\") > 0)"
   ]
  },
  {
   "cell_type": "markdown",
   "metadata": {},
   "source": [
    "## 3.0. Feature Engineering"
   ]
  },
  {
   "cell_type": "code",
   "execution_count": 147,
   "metadata": {},
   "outputs": [],
   "source": [
    "df_ref = df2.select(\"customerid\").distinct()"
   ]
  },
  {
   "cell_type": "markdown",
   "metadata": {},
   "source": [
    "### 3.1. Gross Revenue"
   ]
  },
  {
   "cell_type": "markdown",
   "metadata": {},
   "source": [
    "Unit price * quantity"
   ]
  },
  {
   "cell_type": "code",
   "execution_count": 148,
   "metadata": {},
   "outputs": [],
   "source": [
    "df2_purchases = df2_purchases.withColumn(\n",
    "    \"gross_revenue\",\n",
    "    pf.round(pf.col(\"quantity\") * pf.col(\"unitprice\"), 3)\n",
    ")\n",
    "\n",
    "df_gross_revenue = df2_purchases.groupBy(\"customerid\").agg(pf.sum(pf.col(\"gross_revenue\")).alias(\"gross_revenue\"))\n",
    "\n",
    "df_ref = df_ref.join(df_gross_revenue, on=\"customerid\", how=\"left\")"
   ]
  },
  {
   "cell_type": "markdown",
   "metadata": {},
   "source": [
    "### 3.2. Recency"
   ]
  },
  {
   "cell_type": "markdown",
   "metadata": {},
   "source": [
    "Quantity of days util last purchase"
   ]
  },
  {
   "cell_type": "code",
   "execution_count": 149,
   "metadata": {},
   "outputs": [],
   "source": [
    "df_recency = df2_purchases.groupBy(\"customerid\").agg(pf.max(pf.col(\"invoicedate\")).alias(\"last_purchase\"))\n",
    "\n",
    "df_recency = df_recency.withColumn(\n",
    "    \"max_invoicedate\",\n",
    "    pf.lit(df2_purchases.select(pf.max(pf.col(\"invoicedate\"))).collect()[0][0])\n",
    ")\n",
    "\n",
    "df_recency = df_recency.withColumn(\n",
    "    \"recency_days\",\n",
    "    pf.datediff(pf.col(\"max_invoicedate\"), pf.col(\"last_purchase\"))\n",
    ")\n",
    "\n",
    "df_ref = df_ref.join(df_recency.select(\"customerid\", \"recency_days\"), on=\"customerid\", how=\"left\")"
   ]
  },
  {
   "cell_type": "markdown",
   "metadata": {},
   "source": [
    "### 3.3. Quantity of Stock Code Purchase"
   ]
  },
  {
   "cell_type": "markdown",
   "metadata": {},
   "source": [
    "Quantity of stock codes (products) purchased."
   ]
  },
  {
   "cell_type": "code",
   "execution_count": 150,
   "metadata": {},
   "outputs": [],
   "source": [
    "df_qtd_products = df2_purchases.groupBy(\"customerid\").agg(pf.count_distinct(pf.col(\"stockcode\")).alias(\"qtde_products\"))\n",
    "\n",
    "df_ref = df_ref.join(df_qtd_products, on=\"customerid\", how=\"left\")"
   ]
  },
  {
   "cell_type": "markdown",
   "metadata": {},
   "source": [
    "### 3.4. Sum of Item Quantity Purchase"
   ]
  },
  {
   "cell_type": "code",
   "execution_count": 151,
   "metadata": {},
   "outputs": [],
   "source": [
    "df_qtd_items = df2_purchases.groupBy(\"customerid\").agg(pf.sum(pf.col(\"quantity\")).alias(\"qtde_total_items\"))\n",
    "\n",
    "df_ref = df_ref.join(df_qtd_items, on=\"customerid\", how=\"left\")"
   ]
  },
  {
   "cell_type": "markdown",
   "metadata": {},
   "source": [
    "### 3.5. Gross Revenue By Quantity Products"
   ]
  },
  {
   "cell_type": "markdown",
   "metadata": {},
   "source": [
    "how much gross revenue is generated for total unit of product quantity sold"
   ]
  },
  {
   "cell_type": "code",
   "execution_count": 152,
   "metadata": {},
   "outputs": [],
   "source": [
    "df_ref = df_ref.withColumn(\n",
    "    \"gross_by_quantity\",\n",
    "    pf.col(\"gross_revenue\") / pf.col(\"qtde_total_items\")\n",
    ")"
   ]
  },
  {
   "cell_type": "markdown",
   "metadata": {},
   "source": [
    "### 3.6. Frequency"
   ]
  },
  {
   "cell_type": "markdown",
   "metadata": {},
   "source": [
    "Quantity Products / Customer Lifetime interval days"
   ]
  },
  {
   "cell_type": "code",
   "execution_count": 153,
   "metadata": {},
   "outputs": [],
   "source": [
    "df_distinct = df2_purchases.select(\"customerid\", \"invoicedate\", \"invoiceno\").distinct()\n",
    "\n",
    "df_distinct = df_distinct.groupBy(\"customerid\").agg(\n",
    "    pf.max(pf.col(\"invoicedate\")).alias(\"_max\"),\n",
    "    pf.min(pf.col(\"invoicedate\")).alias(\"_min\"),\n",
    "    pf.count(pf.col(\"invoiceno\")).alias(\"_buy\")\n",
    ")\n",
    "\n",
    "df_distinct = df_distinct.withColumn(\n",
    "    \"_diff\",\n",
    "    pf.datediff(pf.col(\"_max\"), pf.col(\"_min\")) + 1\n",
    ")\n",
    "\n",
    "df_distinct = df_distinct.withColumn(\n",
    "    \"frequency\",\n",
    "    pf.col(\"_buy\") / pf.col(\"_diff\")\n",
    ").select(\n",
    "    pf.col(\"customerid\"),\n",
    "    pf.col(\"frequency\")\n",
    ")\n",
    "\n",
    "df_ref = df_ref.join(df_distinct, on=\"customerid\", how=\"left\")"
   ]
  },
  {
   "cell_type": "markdown",
   "metadata": {},
   "source": [
    "### 3.7. Qtd Returns"
   ]
  },
  {
   "cell_type": "code",
   "execution_count": 154,
   "metadata": {},
   "outputs": [],
   "source": [
    "df_returns = df2_returns.groupBy(\"customerid\").agg(pf.sum(\"quantity\").alias(\"qtde_returns\"))\n",
    "\n",
    "df_returns = df_returns.withColumn(\n",
    "    \"qtde_returns\",\n",
    "    pf.col(\"qtde_returns\") * -1\n",
    ")\n",
    "\n",
    "df_ref = df_ref.join(df_returns, on=\"customerid\", how=\"left\")"
   ]
  },
  {
   "cell_type": "markdown",
   "metadata": {},
   "source": [
    "### 3.8. Quantity of Invoices"
   ]
  },
  {
   "cell_type": "code",
   "execution_count": 155,
   "metadata": {},
   "outputs": [],
   "source": [
    "df_invoices = df2_purchases.groupBy(\"customerid\").agg(pf.count_distinct(pf.col(\"invoiceno\")).alias(\"qtde_invoices\"))\n",
    "\n",
    "df_ref = df_ref.join(df_invoices, on=\"customerid\", how=\"left\")"
   ]
  },
  {
   "cell_type": "markdown",
   "metadata": {},
   "source": [
    "### 3.9. Check Null Values"
   ]
  },
  {
   "cell_type": "code",
   "execution_count": 156,
   "metadata": {},
   "outputs": [
    {
     "name": "stderr",
     "output_type": "stream",
     "text": [
      "                                                                                \r"
     ]
    },
    {
     "name": "stdout",
     "output_type": "stream",
     "text": [
      "+----------+------------------+------------+-------------+----------------+------------------+--------------------+------------+-------------+\n",
      "|customerid|     gross_revenue|recency_days|qtde_products|qtde_total_items| gross_by_quantity|           frequency|qtde_returns|qtde_invoices|\n",
      "+----------+------------------+------------+-------------+----------------+------------------+--------------------+------------+-------------+\n",
      "|     17420| 598.8299999999999|          50|           28|             265|2.2597358490566033|0.009259259259259259|        null|            3|\n",
      "|     16861|            173.76|          59|            6|             140| 1.241142857142857|                0.02|           6|            2|\n",
      "|     16503|1431.9299999999998|         106|           71|             569|2.5165729349736377| 0.01568627450980392|           2|            4|\n",
      "|     15727| 5178.959999999998|          16|          213|            3065|1.6897096247960843|0.020348837209302327|        null|            7|\n",
      "|     17389|31833.679999999993|           0|           45|            7612| 4.182038885969521| 0.10240963855421686|         170|           34|\n",
      "|     15447|            155.17|         330|            9|              85|1.8255294117647058|                 1.0|        null|            1|\n",
      "|     14450|            483.25|         180|           32|             241|2.0051867219917012| 0.02127659574468085|        null|            3|\n",
      "|     13623| 747.7800000000001|          30|           75|             294|2.5434693877551022|0.018656716417910446|           4|            5|\n",
      "|     13285|2709.1199999999994|          23|          157|            2051|1.3208776206728423|0.014925373134328358|        null|            4|\n",
      "|     16339|109.95000000000002|         284|           17|              23| 4.780434782608697|                 1.0|        null|            1|\n",
      "|     14570| 217.2099999999999|         280|           28|              94|2.3107446808510628|                 2.0|        null|            2|\n",
      "|     16386|             317.2|          28|           76|             224|1.4160714285714284|0.008849557522123894|        null|            2|\n",
      "|     15100|             876.0|         333|            1|              80|             10.95| 0.07317073170731707|          22|            3|\n",
      "|     12471|17424.049999999996|           2|          148|            8104| 2.150055528134254|  0.0743801652892562|         246|           27|\n",
      "|     16916|            576.26|          23|          129|             440|1.3096818181818182|0.005714285714285714|        null|            2|\n",
      "|     14514|           1055.35|          61|           65|             589|1.7917657045840405| 0.01107011070110701|        null|            3|\n",
      "|     16500|            400.86|           4|            8|             123|3.2590243902439027| 0.01834862385321101|        null|            6|\n",
      "|     12626| 5954.480000000002|          23|          231|            3416|1.7431147540983614|0.029605263157894735|         103|            9|\n",
      "|     18161|           1618.69|          15|           49|             812| 1.993460591133005| 0.01639344262295082|           2|            5|\n",
      "|     15967|418.83000000000004|          23|           73|             211|1.9849763033175358|0.006756756756756757|        null|            2|\n",
      "+----------+------------------+------------+-------------+----------------+------------------+--------------------+------------+-------------+\n",
      "only showing top 20 rows\n",
      "\n"
     ]
    }
   ],
   "source": [
    "df_ref.show()"
   ]
  },
  {
   "cell_type": "code",
   "execution_count": 157,
   "metadata": {},
   "outputs": [
    {
     "name": "stderr",
     "output_type": "stream",
     "text": [
      "                                                                                \r"
     ]
    },
    {
     "name": "stdout",
     "output_type": "stream",
     "text": [
      "+----------+-------------+------------+-------------+----------------+-----------------+---------+------------+-------------+\n",
      "|customerid|gross_revenue|recency_days|qtde_products|qtde_total_items|gross_by_quantity|frequency|qtde_returns|qtde_invoices|\n",
      "+----------+-------------+------------+-------------+----------------+-----------------+---------+------------+-------------+\n",
      "|         0|           28|          28|           28|              28|               28|       28|        2825|           28|\n",
      "+----------+-------------+------------+-------------+----------------+-----------------+---------+------------+-------------+\n",
      "\n"
     ]
    }
   ],
   "source": [
    "df_ref.select(\n",
    "    [pf.count(pf.when(pf.isnull(pf.col(k)), 1)).alias(k) for k in df_ref.columns]\n",
    ").show()"
   ]
  },
  {
   "cell_type": "code",
   "execution_count": 158,
   "metadata": {},
   "outputs": [],
   "source": [
    "# If returns is none, the customer never returned nothing\n",
    "df_ref = df_ref.na.fill(value=0, subset=[\"qtde_returns\"])"
   ]
  },
  {
   "cell_type": "code",
   "execution_count": 159,
   "metadata": {},
   "outputs": [
    {
     "name": "stderr",
     "output_type": "stream",
     "text": [
      "                                                                                \r"
     ]
    },
    {
     "name": "stdout",
     "output_type": "stream",
     "text": [
      "+----------+-------------+------------+-------------+----------------+-----------------+---------+------------+-------------+\n",
      "|customerid|gross_revenue|recency_days|qtde_products|qtde_total_items|gross_by_quantity|frequency|qtde_returns|qtde_invoices|\n",
      "+----------+-------------+------------+-------------+----------------+-----------------+---------+------------+-------------+\n",
      "|     12943|         null|        null|         null|            null|             null|     null|           1|         null|\n",
      "|     16138|         null|        null|         null|            null|             null|     null|           1|         null|\n",
      "|     13958|         null|        null|         null|            null|             null|     null|          23|         null|\n",
      "|     17547|         null|        null|         null|            null|             null|     null|           4|         null|\n",
      "|     15638|         null|        null|         null|            null|             null|     null|          52|         null|\n",
      "|     12666|         null|        null|         null|            null|             null|     null|          56|         null|\n",
      "|     12870|         null|        null|         null|            null|             null|     null|           2|         null|\n",
      "|     13829|         null|        null|         null|            null|             null|     null|          12|         null|\n",
      "|     17307|         null|        null|         null|            null|             null|     null|         144|         null|\n",
      "|     14213|         null|        null|         null|            null|             null|     null|         244|         null|\n",
      "|     16061|         null|        null|         null|            null|             null|     null|           1|         null|\n",
      "|     12605|         null|        null|         null|            null|             null|     null|           4|         null|\n",
      "|     15823|         null|        null|         null|            null|             null|     null|         282|         null|\n",
      "|     16995|         null|        null|         null|            null|             null|     null|           1|         null|\n",
      "|     14777|         null|        null|         null|            null|             null|     null|           9|         null|\n",
      "|     14627|         null|        null|         null|            null|             null|     null|           5|         null|\n",
      "|     18141|         null|        null|         null|            null|             null|     null|          12|         null|\n",
      "|     18256|         null|        null|         null|            null|             null|     null|          70|         null|\n",
      "|     16262|         null|        null|         null|            null|             null|     null|           5|         null|\n",
      "|     16252|         null|        null|         null|            null|             null|     null|         158|         null|\n",
      "+----------+-------------+------------+-------------+----------------+-----------------+---------+------------+-------------+\n",
      "only showing top 20 rows\n",
      "\n"
     ]
    }
   ],
   "source": [
    "df_ref.filter(pf.isnull(pf.col(\"gross_revenue\"))).show()"
   ]
  },
  {
   "cell_type": "code",
   "execution_count": 160,
   "metadata": {},
   "outputs": [],
   "source": [
    "df_ref = df_ref.filter((~pf.isnull(pf.col(\"gross_revenue\"))))"
   ]
  },
  {
   "cell_type": "code",
   "execution_count": 161,
   "metadata": {},
   "outputs": [
    {
     "name": "stderr",
     "output_type": "stream",
     "text": [
      "                                                                                \r"
     ]
    },
    {
     "name": "stdout",
     "output_type": "stream",
     "text": [
      "+----------+-------------+------------+-------------+----------------+-----------------+---------+------------+-------------+\n",
      "|customerid|gross_revenue|recency_days|qtde_products|qtde_total_items|gross_by_quantity|frequency|qtde_returns|qtde_invoices|\n",
      "+----------+-------------+------------+-------------+----------------+-----------------+---------+------------+-------------+\n",
      "|         0|            0|           0|            0|               0|                0|        0|           0|            0|\n",
      "+----------+-------------+------------+-------------+----------------+-----------------+---------+------------+-------------+\n",
      "\n"
     ]
    }
   ],
   "source": [
    "df_ref.select(\n",
    "    [pf.count(pf.when(pf.isnull(pf.col(k)), 1)).alias(k) for k in df_ref.columns]\n",
    ").show()"
   ]
  },
  {
   "cell_type": "markdown",
   "metadata": {},
   "source": [
    "## 4.0. EDA Feature Behavior for Clustering"
   ]
  },
  {
   "cell_type": "code",
   "execution_count": 162,
   "metadata": {},
   "outputs": [],
   "source": [
    "df4 = df_ref.select([pf.col(k) for k in df_ref.columns])"
   ]
  },
  {
   "cell_type": "markdown",
   "metadata": {},
   "source": [
    "### 4.1. Univariate Analysis"
   ]
  },
  {
   "cell_type": "code",
   "execution_count": 163,
   "metadata": {},
   "outputs": [
    {
     "name": "stderr",
     "output_type": "stream",
     "text": [
      "                                                                                \r"
     ]
    },
    {
     "name": "stdout",
     "output_type": "stream",
     "text": [
      "+-------+------------------+------------------+------------------+-----------------+------------------+-------------------+--------------------+------------------+-----------------+\n",
      "|summary|        customerid|     gross_revenue|      recency_days|    qtde_products|  qtde_total_items|  gross_by_quantity|           frequency|      qtde_returns|    qtde_invoices|\n",
      "+-------+------------------+------------------+------------------+-----------------+------------------+-------------------+--------------------+------------------+-----------------+\n",
      "|  count|              4325|              4325|              4325|             4325|              4325|               4325|                4325|              4325|             4325|\n",
      "|   mean|15300.929248554914|1949.9365156069393| 92.09387283236994|61.48184971098266|1149.8839306358382| 2.2349171280083304|  0.4042442400569476|21.850173410404626|4.250635838150289|\n",
      "| stddev|1721.9331026971438| 8445.945448654618|100.16102194111322|85.35167201157616| 4761.847737200201|  5.698386641589385|  0.5589572779971065| 190.9271616666031|7.649924735734744|\n",
      "|    min|             12347|              3.75|                 0|                1|                 1|0.08561912894961572|0.005449591280653951|                 0|                1|\n",
      "|    max|             18287| 279138.0199999998|               373|             1785|            196844|              295.0|                17.0|              8004|              206|\n",
      "+-------+------------------+------------------+------------------+-----------------+------------------+-------------------+--------------------+------------------+-----------------+\n",
      "\n"
     ]
    }
   ],
   "source": [
    "df4.describe().show()"
   ]
  },
  {
   "cell_type": "code",
   "execution_count": 164,
   "metadata": {},
   "outputs": [
    {
     "name": "stderr",
     "output_type": "stream",
     "text": [
      "Summarize dataset: 100%|██████████| 99/99 [00:08<00:00, 12.00it/s, Completed]                                   \n",
      "Generate report structure: 100%|██████████| 1/1 [00:02<00:00,  2.38s/it]\n",
      "Render HTML: 100%|██████████| 1/1 [00:01<00:00,  1.71s/it]\n",
      "Export report to file: 100%|██████████| 1/1 [00:00<00:00, 117.78it/s]\n"
     ]
    }
   ],
   "source": [
    "profile = ProfileReport(df4.toPandas())\n",
    "profile.to_file(\"output_v2.html\")"
   ]
  },
  {
   "cell_type": "markdown",
   "metadata": {},
   "source": [
    "#### 4.1.1. Gross Revenue"
   ]
  },
  {
   "cell_type": "code",
   "execution_count": 173,
   "metadata": {},
   "outputs": [],
   "source": [
    "df_95_percent = df4.filter(pf.col(\"gross_revenue\") > 5734.5635)"
   ]
  },
  {
   "cell_type": "code",
   "execution_count": 174,
   "metadata": {},
   "outputs": [
    {
     "name": "stderr",
     "output_type": "stream",
     "text": [
      "                                                                                \r"
     ]
    },
    {
     "name": "stdout",
     "output_type": "stream",
     "text": [
      "+-------+------------------+------------------+------------------+------------------+------------------+------------------+--------------------+------------------+------------------+\n",
      "|summary|        customerid|     gross_revenue|      recency_days|     qtde_products|  qtde_total_items| gross_by_quantity|           frequency|      qtde_returns|     qtde_invoices|\n",
      "+-------+------------------+------------------+------------------+------------------+------------------+------------------+--------------------+------------------+------------------+\n",
      "|  count|               214|               214|               214|               214|               214|               214|                 214|               214|               214|\n",
      "|   mean|14887.275700934579|19120.744158878515|18.200934579439252|207.22429906542055|10777.570093457944|2.0223739829661596| 0.10974740937469499|242.51869158878506| 22.72429906542056|\n",
      "| stddev|1792.7062930691134| 33346.78311119376|31.195458304707934|237.76187671094794|18712.026519385872|0.8671781575223739|  0.3112301897415807|  788.863434586955|24.784965687978502|\n",
      "|    min|             12357| 5739.459999999998|                 0|                 2|               886|               0.4|0.009316770186335404|                 0|                 1|\n",
      "|    max|             18229| 279138.0199999998|               275|              1785|            196844| 8.323814898419863|                 3.0|              8004|               206|\n",
      "+-------+------------------+------------------+------------------+------------------+------------------+------------------+--------------------+------------------+------------------+\n",
      "\n"
     ]
    }
   ],
   "source": [
    "df_95_percent.describe().show()"
   ]
  },
  {
   "cell_type": "markdown",
   "metadata": {},
   "source": [
    "##### 4.1.1.1. Max Quantity Itens "
   ]
  },
  {
   "cell_type": "code",
   "execution_count": 184,
   "metadata": {},
   "outputs": [
    {
     "name": "stderr",
     "output_type": "stream",
     "text": [
      "                                                                                \r"
     ]
    },
    {
     "name": "stdout",
     "output_type": "stream",
     "text": [
      "+----------+-----------------+------------+-------------+----------------+------------------+------------------+------------+-------------+\n",
      "|customerid|    gross_revenue|recency_days|qtde_products|qtde_total_items| gross_by_quantity|         frequency|qtde_returns|qtde_invoices|\n",
      "+----------+-----------------+------------+-------------+----------------+------------------+------------------+------------+-------------+\n",
      "|     14646|279138.0199999998|           1|          699|          196844|1.4180672004226687|0.2033898305084746|         288|           72|\n",
      "+----------+-----------------+------------+-------------+----------------+------------------+------------------+------------+-------------+\n",
      "\n"
     ]
    }
   ],
   "source": [
    "df_95_percent.filter(pf.col(\"qtde_total_items\") == 196844).show()"
   ]
  },
  {
   "cell_type": "markdown",
   "metadata": {},
   "source": [
    "##### 4.1.1.2. Recency Days Top Gross Revenue"
   ]
  },
  {
   "cell_type": "code",
   "execution_count": 192,
   "metadata": {},
   "outputs": [
    {
     "name": "stderr",
     "output_type": "stream",
     "text": [
      "                                                                                \r"
     ]
    },
    {
     "name": "stdout",
     "output_type": "stream",
     "text": [
      "+---------------------+\n",
      "|max(qtde_total_items)|\n",
      "+---------------------+\n",
      "|               196844|\n",
      "+---------------------+\n",
      "\n"
     ]
    },
    {
     "name": "stderr",
     "output_type": "stream",
     "text": [
      "                                                                                \r"
     ]
    },
    {
     "name": "stdout",
     "output_type": "stream",
     "text": [
      "+----------------+\n",
      "|qtde_total_items|\n",
      "+----------------+\n",
      "|          196844|\n",
      "|           79963|\n",
      "|           77373|\n",
      "|           69993|\n",
      "|           64549|\n",
      "|           64124|\n",
      "|           62812|\n",
      "|           58243|\n",
      "|           57785|\n",
      "|           50255|\n",
      "|           40207|\n",
      "|           38194|\n",
      "|           33704|\n",
      "|           32744|\n",
      "|           32184|\n",
      "|           31070|\n",
      "|           30450|\n",
      "|           29672|\n",
      "|           28920|\n",
      "|           28004|\n",
      "+----------------+\n",
      "only showing top 20 rows\n",
      "\n"
     ]
    }
   ],
   "source": [
    "df_95_percent.select(pf.max(pf.col(\"qtde_total_items\"))).show()\n",
    "\n",
    "# On previous analisys on another notebook, theses clients now filter\n",
    "df_95_percent.select(\"qtde_total_items\").distinct().sort(pf.col(\"qtde_total_items\").desc()).show(20)"
   ]
  },
  {
   "cell_type": "markdown",
   "metadata": {},
   "source": [
    "##### 4.1.1.3. Recency Days Top 1 Gross Revenue"
   ]
  },
  {
   "cell_type": "code",
   "execution_count": 187,
   "metadata": {},
   "outputs": [
    {
     "name": "stderr",
     "output_type": "stream",
     "text": [
      "                                                                                \r"
     ]
    },
    {
     "name": "stdout",
     "output_type": "stream",
     "text": [
      "+----------+------------------+------------+-------------+----------------+------------------+------------------+------------+-------------+\n",
      "|customerid|     gross_revenue|recency_days|qtde_products|qtde_total_items| gross_by_quantity|         frequency|qtde_returns|qtde_invoices|\n",
      "+----------+------------------+------------+-------------+----------------+------------------+------------------+------------+-------------+\n",
      "|     14911|140438.72000000015|           1|         1785|           79963|1.7562962870327545|0.5335120643431636|        3332|          199|\n",
      "+----------+------------------+------------+-------------+----------------+------------------+------------------+------------+-------------+\n",
      "\n"
     ]
    }
   ],
   "source": [
    "df_95_percent.filter(pf.col(\"qtde_total_items\") == 79963).show()\n",
    "\n",
    "df1.filter(pf.col(\"customerid\") == 16532).show(5)"
   ]
  },
  {
   "cell_type": "code",
   "execution_count": 188,
   "metadata": {},
   "outputs": [
    {
     "name": "stdout",
     "output_type": "stream",
     "text": [
      "+----------+-----------------+-----------------+-----------+-----------------+----------------+--------------+-------------+\n",
      "|customerid|min_product_price|max_product_price|total_itens|unique_stockcodes|unique_invoiceno|first_purchase|last_purchase|\n",
      "+----------+-----------------+-----------------+-----------+-----------------+----------------+--------------+-------------+\n",
      "|     14911|             0.06|            165.0|      76631|             1791|             243|    2016-11-29|   2017-12-06|\n",
      "+----------+-----------------+-----------------+-----------+-----------------+----------------+--------------+-------------+\n",
      "\n"
     ]
    }
   ],
   "source": [
    "plot_simple_customer_statistics(df2, 14911)"
   ]
  },
  {
   "cell_type": "markdown",
   "metadata": {},
   "source": [
    "##### 4.1.1.4. Recency Days Top 2 Gross Revenue"
   ]
  },
  {
   "cell_type": "code",
   "execution_count": 190,
   "metadata": {},
   "outputs": [
    {
     "name": "stderr",
     "output_type": "stream",
     "text": [
      "                                                                                \r"
     ]
    },
    {
     "name": "stdout",
     "output_type": "stream",
     "text": [
      "+----------+-------------+------------+-------------+----------------+------------------+-------------------+------------+-------------+\n",
      "|customerid|gross_revenue|recency_days|qtde_products|qtde_total_items| gross_by_quantity|          frequency|qtde_returns|qtde_invoices|\n",
      "+----------+-------------+------------+-------------+----------------+------------------+-------------------+------------+-------------+\n",
      "|     12415|    124564.53|          24|          443|           77373|1.6099224535690744|0.06369426751592357|         427|           20|\n",
      "+----------+-------------+------------+-------------+----------------+------------------+-------------------+------------+-------------+\n",
      "\n",
      "+---------+---------+--------------------+--------+-----------+---------+----------+---------+\n",
      "|invoiceno|stockcode|         description|quantity|invoicedate|unitprice|customerid|  country|\n",
      "+---------+---------+--------------------+--------+-----------+---------+----------+---------+\n",
      "|   540267|    22078|ribbon_reel_lace_...|     120| 2017-01-04|     1.85|     12415|australia|\n",
      "|   540267|    22079|ribbon_reel_heart...|     120| 2017-01-04|     1.45|     12415|australia|\n",
      "|   540267|    22080|ribbon_reel_polka...|     120| 2017-01-04|     1.45|     12415|australia|\n",
      "|   540267|    22077|6_ribbons_rustic_...|     144| 2017-01-04|     1.45|     12415|australia|\n",
      "|   540267|    22505|memo_board_cottag...|      24| 2017-01-04|     4.25|     12415|australia|\n",
      "+---------+---------+--------------------+--------+-----------+---------+----------+---------+\n",
      "only showing top 5 rows\n",
      "\n"
     ]
    }
   ],
   "source": [
    "df_95_percent.filter(pf.col(\"qtde_total_items\") == 77373).show()\n",
    "\n",
    "df1.filter(pf.col(\"customerid\") == 12415).show(5)"
   ]
  },
  {
   "cell_type": "code",
   "execution_count": 191,
   "metadata": {},
   "outputs": [
    {
     "name": "stdout",
     "output_type": "stream",
     "text": [
      "+----------+-----------------+-----------------+-----------+-----------------+----------------+--------------+-------------+\n",
      "|customerid|min_product_price|max_product_price|total_itens|unique_stockcodes|unique_invoiceno|first_purchase|last_purchase|\n",
      "+----------+-----------------+-----------------+-----------+-----------------+----------------+--------------+-------------+\n",
      "|     12415|             0.19|            14.95|      76946|              443|              24|    2017-01-04|   2017-11-13|\n",
      "+----------+-----------------+-----------------+-----------+-----------------+----------------+--------------+-------------+\n",
      "\n"
     ]
    }
   ],
   "source": [
    "plot_simple_customer_statistics(df2, 12415)"
   ]
  },
  {
   "cell_type": "markdown",
   "metadata": {},
   "source": [
    "##### 4.1.1.5. Recency Days Top 3 Gross Revenue"
   ]
  },
  {
   "cell_type": "code",
   "execution_count": 194,
   "metadata": {},
   "outputs": [
    {
     "name": "stderr",
     "output_type": "stream",
     "text": [
      "                                                                                \r"
     ]
    },
    {
     "name": "stdout",
     "output_type": "stream",
     "text": [
      "+----------+-----------------+------------+-------------+----------------+------------------+-------------------+------------+-------------+\n",
      "|customerid|    gross_revenue|recency_days|qtde_products|qtde_total_items| gross_by_quantity|          frequency|qtde_returns|qtde_invoices|\n",
      "+----------+-----------------+------------+-------------+----------------+------------------+-------------------+------------+-------------+\n",
      "|     17450|194550.7899999999|           8|          124|           69993|2.7795749574957482|0.12777777777777777|         952|           46|\n",
      "+----------+-----------------+------------+-------------+----------------+------------------+-------------------+------------+-------------+\n",
      "\n",
      "+---------+---------+--------------------+--------+-----------+---------+----------+--------------+\n",
      "|invoiceno|stockcode|         description|quantity|invoicedate|unitprice|customerid|       country|\n",
      "+---------+---------+--------------------+--------+-----------+---------+----------+--------------+\n",
      "|   537448|    21756|bath_building_blo...|       6| 2016-12-05|      6.6|     17450|united_kingdom|\n",
      "|   537456|    22469|heart_of_wicker_s...|     402| 2016-12-05|     1.93|     17450|united_kingdom|\n",
      "|   537456|    22470|heart_of_wicker_l...|     378| 2016-12-05|     3.21|     17450|united_kingdom|\n",
      "|   540689|    21733|red_hanging_heart...|     860| 2017-01-09|     3.24|     17450|united_kingdom|\n",
      "|   540689|   85123a|white_hanging_hea...|    1010| 2017-01-09|     3.24|     17450|united_kingdom|\n",
      "+---------+---------+--------------------+--------+-----------+---------+----------+--------------+\n",
      "only showing top 5 rows\n",
      "\n"
     ]
    }
   ],
   "source": [
    "df_95_percent.filter(pf.col(\"qtde_total_items\") == 69993).show()\n",
    "\n",
    "df1.filter(pf.col(\"customerid\") == 17450).show(5)"
   ]
  },
  {
   "cell_type": "code",
   "execution_count": 195,
   "metadata": {},
   "outputs": [
    {
     "name": "stdout",
     "output_type": "stream",
     "text": [
      "+----------+-----------------+-----------------+-----------+-----------------+----------------+--------------+-------------+\n",
      "|customerid|min_product_price|max_product_price|total_itens|unique_stockcodes|unique_invoiceno|first_purchase|last_purchase|\n",
      "+----------+-----------------+-----------------+-----------+-----------------+----------------+--------------+-------------+\n",
      "|     17450|             0.72|            12.98|      69041|              124|              49|    2016-12-05|   2017-11-29|\n",
      "+----------+-----------------+-----------------+-----------+-----------------+----------------+--------------+-------------+\n",
      "\n"
     ]
    }
   ],
   "source": [
    "plot_simple_customer_statistics(df2, 17450)"
   ]
  },
  {
   "cell_type": "markdown",
   "metadata": {},
   "source": [
    "##### 4.1.1.6. Max Frequency "
   ]
  },
  {
   "cell_type": "code",
   "execution_count": 196,
   "metadata": {},
   "outputs": [
    {
     "name": "stderr",
     "output_type": "stream",
     "text": [
      "                                                                                \r"
     ]
    },
    {
     "name": "stdout",
     "output_type": "stream",
     "text": [
      "+----------+-----------------+------------+-------------+----------------+------------------+---------+------------+-------------+\n",
      "|customerid|    gross_revenue|recency_days|qtde_products|qtde_total_items| gross_by_quantity|frequency|qtde_returns|qtde_invoices|\n",
      "+----------+-----------------+------------+-------------+----------------+------------------+---------+------------+-------------+\n",
      "|     16000|          12393.7|           2|            9|            5110|2.4253816046966734|      3.0|           0|            3|\n",
      "|     18139|8438.339999999997|          17|           35|            5557|1.5185063883390313|      3.0|           0|            6|\n",
      "+----------+-----------------+------------+-------------+----------------+------------------+---------+------------+-------------+\n",
      "\n"
     ]
    }
   ],
   "source": [
    "df_95_percent.filter(pf.col(\"frequency\") >= 3.).show()"
   ]
  },
  {
   "cell_type": "code",
   "execution_count": 204,
   "metadata": {},
   "outputs": [
    {
     "name": "stdout",
     "output_type": "stream",
     "text": [
      "+---------+---------+--------------------+--------+-----------+---------+----------+--------------+\n",
      "|invoiceno|stockcode|         description|quantity|invoicedate|unitprice|customerid|       country|\n",
      "+---------+---------+--------------------+--------+-----------+---------+----------+--------------+\n",
      "|   581105|    85152|hand_over_the_cho...|     620| 2017-12-05|     1.92|     16000|united_kingdom|\n",
      "|   581105|    22457|natural_slate_hea...|     620| 2017-12-05|     2.55|     16000|united_kingdom|\n",
      "|   581105|    22727|alarm_clock_bakel...|     620| 2017-12-05|     2.99|     16000|united_kingdom|\n",
      "|   581105|    23497|classic_chrome_bi...|     620| 2017-12-05|     1.38|     16000|united_kingdom|\n",
      "|   581105|    23498|classic_bicycle_c...|     620| 2017-12-05|     1.38|     16000|united_kingdom|\n",
      "|   581105|    22961|jam_making_set_pr...|     620| 2017-12-05|     1.38|     16000|united_kingdom|\n",
      "|   581105|    23552|bicycle_puncture_...|     620| 2017-12-05|     1.86|     16000|united_kingdom|\n",
      "|   581107|    23461|sweetheart_bird_h...|     620| 2017-12-05|      3.3|     16000|united_kingdom|\n",
      "|   581110|    23486|antique_heart_she...|     150| 2017-12-05|    13.35|     16000|united_kingdom|\n",
      "+---------+---------+--------------------+--------+-----------+---------+----------+--------------+\n",
      "\n",
      "+---------+---------+--------------------+--------+-----------+---------+----------+--------------+\n",
      "|invoiceno|stockcode|         description|quantity|invoicedate|unitprice|customerid|       country|\n",
      "+---------+---------+--------------------+--------+-----------+---------+----------+--------------+\n",
      "|   577745|    22087|paper_bunting_whi...|      40| 2017-11-19|     2.55|     18139|united_kingdom|\n",
      "|   577745|    22046|tea_party__wrappi...|      25| 2017-11-19|     0.42|     18139|united_kingdom|\n",
      "|   577745|    22708|     wrap_dolly_girl|      25| 2017-11-19|     0.42|     18139|united_kingdom|\n",
      "|   577745|    23546|   wrap_paisley_park|      25| 2017-11-19|     0.42|     18139|united_kingdom|\n",
      "|   577745|    23230|wrap_alphabet_design|      25| 2017-11-19|     0.42|     18139|united_kingdom|\n",
      "|   577745|    23296|set_of_6_tea_time...|      24| 2017-11-19|     1.25|     18139|united_kingdom|\n",
      "|   577745|    21210|set_of_72_retrosp...|      24| 2017-11-19|     1.45|     18139|united_kingdom|\n",
      "|   577745|    84991|60_teatime_fairy_...|      24| 2017-11-19|     0.55|     18139|united_kingdom|\n",
      "|   577745|    21977|pack_of_60_pink_p...|      24| 2017-11-19|     0.55|     18139|united_kingdom|\n",
      "|   577745|    21975|pack_of_60_dinosa...|      24| 2017-11-19|     0.55|     18139|united_kingdom|\n",
      "|   577745|    22951|60_cake_cases_dol...|      24| 2017-11-19|     0.55|     18139|united_kingdom|\n",
      "|   577745|    21172|    party_metal_sign|      24| 2017-11-19|     1.45|     18139|united_kingdom|\n",
      "|   577745|    23504|playing_cards_jub...|      24| 2017-11-19|     1.25|     18139|united_kingdom|\n",
      "|   577745|    23503|playing_cards_kee...|      24| 2017-11-19|     1.25|     18139|united_kingdom|\n",
      "|   577745|    84380|set_of_3_butterfl...|      12| 2017-11-19|     1.45|     18139|united_kingdom|\n",
      "|   577745|    22965|3_traditional_bis...|      12| 2017-11-19|      2.1|     18139|united_kingdom|\n",
      "|   577745|    84378|set_of_3_heart_co...|      12| 2017-11-19|     1.45|     18139|united_kingdom|\n",
      "|   577745|    22960|jam_making_set_wi...|      12| 2017-11-19|     3.75|     18139|united_kingdom|\n",
      "|   577754|    22087|paper_bunting_whi...|      40| 2017-11-19|     2.55|     18139|united_kingdom|\n",
      "|   577754|    47566|       party_bunting|     150| 2017-11-19|     4.15|     18139|united_kingdom|\n",
      "|   577754|    22819|birthday_card,_re...|      36| 2017-11-19|     0.42|     18139|united_kingdom|\n",
      "|   577754|    21519|gin_&_tonic_diet_...|      36| 2017-11-19|     0.42|     18139|united_kingdom|\n",
      "|   577754|    21507|elephant_birthday...|      36| 2017-11-19|     0.42|     18139|united_kingdom|\n",
      "|   577754|    22712|     card_dolly_girl|      48| 2017-11-19|     0.42|     18139|united_kingdom|\n",
      "|   577754|    22046|tea_party__wrappi...|      50| 2017-11-19|     0.42|     18139|united_kingdom|\n",
      "|   577754|    22708|     wrap_dolly_girl|      50| 2017-11-19|     0.42|     18139|united_kingdom|\n",
      "|   577754|    23546|   wrap_paisley_park|      50| 2017-11-19|     0.42|     18139|united_kingdom|\n",
      "|   577754|    23230|wrap_alphabet_design|      50| 2017-11-19|     0.42|     18139|united_kingdom|\n",
      "|   577754|    23298|      spotty_bunting|     150| 2017-11-19|     4.15|     18139|united_kingdom|\n",
      "|   577754|    23295|set_of_12_mini_lo...|      24| 2017-11-19|     0.83|     18139|united_kingdom|\n",
      "|   577754|    23296|set_of_6_tea_time...|      48| 2017-11-19|     1.25|     18139|united_kingdom|\n",
      "|   577754|    21210|set_of_72_retrosp...|      48| 2017-11-19|     1.45|     18139|united_kingdom|\n",
      "|   577754|    84991|60_teatime_fairy_...|      48| 2017-11-19|     0.55|     18139|united_kingdom|\n",
      "|   577754|    21977|pack_of_60_pink_p...|      48| 2017-11-19|     0.55|     18139|united_kingdom|\n",
      "|   577754|    21975|pack_of_60_dinosa...|      48| 2017-11-19|     0.55|     18139|united_kingdom|\n",
      "|   577754|    22951|60_cake_cases_dol...|      48| 2017-11-19|     0.55|     18139|united_kingdom|\n",
      "|   577754|    21172|    party_metal_sign|      24| 2017-11-19|     1.45|     18139|united_kingdom|\n",
      "|   577754|    22138|baking_set_9_piec...|      12| 2017-11-19|     4.95|     18139|united_kingdom|\n",
      "|   577754|    23504|playing_cards_jub...|      24| 2017-11-19|     1.25|     18139|united_kingdom|\n",
      "|   577754|    23503|playing_cards_kee...|      24| 2017-11-19|     1.25|     18139|united_kingdom|\n",
      "|   577754|    22938|cupcake_lace_pape...|      48| 2017-11-19|     1.65|     18139|united_kingdom|\n",
      "|   577754|    23355|hot_water_bottle_...|      24| 2017-11-19|     4.25|     18139|united_kingdom|\n",
      "|   577754|    22835|hot_water_bottle_...|      24| 2017-11-19|     4.25|     18139|united_kingdom|\n",
      "|   577754|    84380|set_of_3_butterfl...|      24| 2017-11-19|     1.45|     18139|united_kingdom|\n",
      "|   577754|    22965|3_traditional_bis...|      24| 2017-11-19|      2.1|     18139|united_kingdom|\n",
      "|   577754|    84378|set_of_3_heart_co...|      24| 2017-11-19|     1.45|     18139|united_kingdom|\n",
      "|   577754|    23166|medium_ceramic_to...|      48| 2017-11-19|     1.04|     18139|united_kingdom|\n",
      "|   577754|    23165|large_ceramic_top...|      24| 2017-11-19|     1.65|     18139|united_kingdom|\n",
      "|   577754|    22961|jam_making_set_pr...|      96| 2017-11-19|     1.25|     18139|united_kingdom|\n",
      "|   577754|    22960|jam_making_set_wi...|      12| 2017-11-19|     3.75|     18139|united_kingdom|\n",
      "+---------+---------+--------------------+--------+-----------+---------+----------+--------------+\n",
      "only showing top 50 rows\n",
      "\n"
     ]
    }
   ],
   "source": [
    "df1.filter(pf.col(\"customerid\") == 16000).show(10)\n",
    "\n",
    "df1.filter(pf.col(\"customerid\") == 18139).show(50)"
   ]
  },
  {
   "cell_type": "code",
   "execution_count": 200,
   "metadata": {},
   "outputs": [
    {
     "name": "stdout",
     "output_type": "stream",
     "text": [
      "+----------+-----------------+-----------------+-----------+-----------------+----------------+--------------+-------------+\n",
      "|customerid|min_product_price|max_product_price|total_itens|unique_stockcodes|unique_invoiceno|first_purchase|last_purchase|\n",
      "+----------+-----------------+-----------------+-----------+-----------------+----------------+--------------+-------------+\n",
      "|     16000|             1.38|            13.35|       5110|                9|               3|    2017-12-05|   2017-12-05|\n",
      "+----------+-----------------+-----------------+-----------+-----------------+----------------+--------------+-------------+\n",
      "\n",
      "+----------+-----------------+-----------------+-----------+-----------------+----------------+--------------+-------------+\n",
      "|customerid|min_product_price|max_product_price|total_itens|unique_stockcodes|unique_invoiceno|first_purchase|last_purchase|\n",
      "+----------+-----------------+-----------------+-----------+-----------------+----------------+--------------+-------------+\n",
      "|     18139|             0.42|             4.95|       5557|               35|               6|    2017-11-19|   2017-11-20|\n",
      "+----------+-----------------+-----------------+-----------+-----------------+----------------+--------------+-------------+\n",
      "\n"
     ]
    }
   ],
   "source": [
    "plot_simple_customer_statistics(df2, 16000)\n",
    "\n",
    "plot_simple_customer_statistics(df2, 18139)"
   ]
  },
  {
   "cell_type": "markdown",
   "metadata": {},
   "source": [
    "##### 4.1.1.7. Max & Min Invoices"
   ]
  },
  {
   "cell_type": "code",
   "execution_count": 208,
   "metadata": {},
   "outputs": [
    {
     "name": "stderr",
     "output_type": "stream",
     "text": [
      "                                                                                \r"
     ]
    },
    {
     "name": "stdout",
     "output_type": "stream",
     "text": [
      "+----------+-----------------+------------+-------------+----------------+-----------------+---------+------------+-------------+\n",
      "|customerid|    gross_revenue|recency_days|qtde_products|qtde_total_items|gross_by_quantity|frequency|qtde_returns|qtde_invoices|\n",
      "+----------+-----------------+------------+-------------+----------------+-----------------+---------+------------+-------------+\n",
      "|     12590|9341.260000000004|         211|           67|            4282|2.181517982251285|      1.0|           4|            1|\n",
      "|     12357|6207.669999999996|          33|          131|            2708|2.292344903988182|      1.0|           0|            1|\n",
      "+----------+-----------------+------------+-------------+----------------+-----------------+---------+------------+-------------+\n",
      "\n"
     ]
    },
    {
     "name": "stderr",
     "output_type": "stream",
     "text": [
      "                                                                                \r"
     ]
    },
    {
     "name": "stdout",
     "output_type": "stream",
     "text": [
      "+----------+-----------------+------------+-------------+----------------+------------------+------------------+------------+-------------+\n",
      "|customerid|    gross_revenue|recency_days|qtde_products|qtde_total_items| gross_by_quantity|         frequency|qtde_returns|qtde_invoices|\n",
      "+----------+-----------------+------------+-------------+----------------+------------------+------------------+------------+-------------+\n",
      "|     12748|32305.31999999994|           0|         1765|           25211|1.2813978025465051|0.5508021390374331|        1535|          206|\n",
      "+----------+-----------------+------------+-------------+----------------+------------------+------------------+------------+-------------+\n",
      "\n"
     ]
    }
   ],
   "source": [
    "df_95_percent.filter(pf.col(\"qtde_invoices\") == 1).show()\n",
    "\n",
    "df_95_percent.filter(pf.col(\"qtde_invoices\") >= 200).show()"
   ]
  },
  {
   "cell_type": "code",
   "execution_count": 211,
   "metadata": {},
   "outputs": [
    {
     "name": "stdout",
     "output_type": "stream",
     "text": [
      "+---------+---------+--------------------+--------+-----------+---------+----------+-------+\n",
      "|invoiceno|stockcode|         description|quantity|invoicedate|unitprice|customerid|country|\n",
      "+---------+---------+--------------------+--------+-----------+---------+----------+-------+\n",
      "|   552978|   85014b|red_retrospot_umb...|      48| 2017-05-10|     4.95|     12590|germany|\n",
      "|   552978|   85014a|black/blue_polkad...|      48| 2017-05-10|     4.95|     12590|germany|\n",
      "|   552978|    22354|retrospot_padded_...|      60| 2017-05-10|     3.39|     12590|germany|\n",
      "|   552978|    22558|clothes_pegs_retr...|      96| 2017-05-10|     1.25|     12590|germany|\n",
      "|   552978|    22329|round_container_s...|      48| 2017-05-10|     1.45|     12590|germany|\n",
      "|   552978|    22352|lunch_box_with_cu...|      60| 2017-05-10|      2.1|     12590|germany|\n",
      "|   552978|    22195|large_heart_measu...|      24| 2017-05-10|     1.65|     12590|germany|\n",
      "|   552978|    21035|set/2_red_retrosp...|     100| 2017-05-10|     2.75|     12590|germany|\n",
      "|   552978|    21154|red_retrospot_ove...|      40| 2017-05-10|     1.25|     12590|germany|\n",
      "|   552978|    21155|red_retrospot_peg...|      48| 2017-05-10|     2.55|     12590|germany|\n",
      "|   552978|    21039|red_retrospot_sho...|      48| 2017-05-10|     2.55|     12590|germany|\n",
      "|   552978|    22895|set_of_2_tea_towe...|     100| 2017-05-10|     2.55|     12590|germany|\n",
      "|   552978|    22939| apron_apple_delight|      50| 2017-05-10|     4.25|     12590|germany|\n",
      "|   552978|    22377|bottle_bag_retrospot|      50| 2017-05-10|     1.85|     12590|germany|\n",
      "|   552978|    20685|doormat_red_retro...|      20| 2017-05-10|     6.75|     12590|germany|\n",
      "|   552978|    82600|no_singing_metal_...|      48| 2017-05-10|     1.85|     12590|germany|\n",
      "|   552978|    21165|beware_of_the_cat...|      48| 2017-05-10|     1.45|     12590|germany|\n",
      "|   552978|    21164|home_sweet_home_m...|      72| 2017-05-10|     2.55|     12590|germany|\n",
      "|   552978|    21907|i'm_on_holiday_me...|      24| 2017-05-10|      2.1|     12590|germany|\n",
      "|   552978|    22666|recipe_box_pantry...|      24| 2017-05-10|     2.55|     12590|germany|\n",
      "+---------+---------+--------------------+--------+-----------+---------+----------+-------+\n",
      "only showing top 20 rows\n",
      "\n"
     ]
    }
   ],
   "source": [
    "df1.filter(pf.col(\"customerid\") == 12590).show()"
   ]
  },
  {
   "cell_type": "code",
   "execution_count": 209,
   "metadata": {},
   "outputs": [
    {
     "name": "stdout",
     "output_type": "stream",
     "text": [
      "+----------+-----------------+-----------------+-----------+-----------------+----------------+--------------+-------------+\n",
      "|customerid|min_product_price|max_product_price|total_itens|unique_stockcodes|unique_invoiceno|first_purchase|last_purchase|\n",
      "+----------+-----------------+-----------------+-----------+-----------------+----------------+--------------+-------------+\n",
      "|     12590|             0.65|             7.65|       4278|               67|               2|    2017-05-10|   2017-05-31|\n",
      "+----------+-----------------+-----------------+-----------+-----------------+----------------+--------------+-------------+\n",
      "\n"
     ]
    }
   ],
   "source": [
    "plot_simple_customer_statistics(df2, 12590)"
   ]
  },
  {
   "cell_type": "markdown",
   "metadata": {},
   "source": [
    "##### 4.1.1.8. Max Qtde Returns"
   ]
  },
  {
   "cell_type": "code",
   "execution_count": 217,
   "metadata": {},
   "outputs": [
    {
     "name": "stderr",
     "output_type": "stream",
     "text": [
      "                                                                                \r"
     ]
    },
    {
     "name": "stdout",
     "output_type": "stream",
     "text": [
      "+----------+------------------+------------+-------------+----------------+------------------+--------------------+------------+-------------+\n",
      "|customerid|     gross_revenue|recency_days|qtde_products|qtde_total_items| gross_by_quantity|           frequency|qtde_returns|qtde_invoices|\n",
      "+----------+------------------+------------+-------------+----------------+------------------+--------------------+------------+-------------+\n",
      "|     16029|          72882.09|          38|           43|           40207|1.8126716740866018| 0.18452380952380953|        8004|           62|\n",
      "|     12931| 42055.96000000001|          21|           28|           28004|1.5017840308527355| 0.04451038575667656|        4427|           15|\n",
      "|     14607|           15021.5|          15|           37|           10734|1.3994317123160052|0.048582995951417005|        3768|           12|\n",
      "|     14911|140438.72000000015|           1|         1785|           79963|1.7562962870327545|  0.5335120643431636|        3332|          199|\n",
      "|     17949|          58030.48|           1|           28|           30450|1.9057628899835797| 0.11859838274932614|        2878|           44|\n",
      "|     15482|          11014.96|          15|           45|            5019|2.1946523211795177| 0.03197674418604651|        2022|           11|\n",
      "|     15769|          56252.72|           7|           26|           29672|1.8958182798598004| 0.07123287671232877|        2012|           26|\n",
      "|     12901|          17654.54|           8|           30|           23075|0.7650938244853738| 0.10646387832699619|        1776|           28|\n",
      "|     16013|           37130.6|           3|           30|           15536|2.3899716786817713| 0.12737127371273713|        1594|           47|\n",
      "|     12748| 32305.31999999994|           0|         1765|           25211|1.2813978025465051|  0.5508021390374331|        1535|          206|\n",
      "|     17511|          91062.38|           2|          453|           64549|1.4107481138360007| 0.08333333333333333|        1535|           31|\n",
      "|     13694| 65019.61999999999|           3|          365|           62812|1.0351464688276124|  0.1347708894878706|        1504|           50|\n",
      "|     14680|          28754.11|          25|           73|           13476|2.1337273671712675| 0.04610951008645533|        1002|           16|\n",
      "|     17450| 194550.7899999999|           8|          124|           69993|2.7795749574957482| 0.12777777777777777|         952|           46|\n",
      "|     16525|13027.449999999999|           2|           75|            7397|1.7611802081925103| 0.07123287671232877|         904|           26|\n",
      "|     16684|          66653.56|           4|          119|           50255|1.3263070341259575| 0.07887323943661972|         864|           28|\n",
      "|     14156|117375.63000000006|           9|          713|           57785| 2.031247382538722| 0.15151515151515152|         859|           55|\n",
      "|     16839|16594.350000000006|           8|          114|            8975| 1.848952646239555| 0.09392265193370165|         504|           34|\n",
      "|     15311| 60767.90000000003|           0|          567|           38194|1.5910326229250675| 0.24331550802139038|         474|           91|\n",
      "|     13113|12245.959999999997|           0|           95|            3045| 4.021661740558291|  0.0653950953678474|         449|           24|\n",
      "+----------+------------------+------------+-------------+----------------+------------------+--------------------+------------+-------------+\n",
      "only showing top 20 rows\n",
      "\n"
     ]
    }
   ],
   "source": [
    "df_95_percent.sort(pf.col(\"qtde_returns\").desc()).show()"
   ]
  },
  {
   "cell_type": "code",
   "execution_count": 223,
   "metadata": {},
   "outputs": [
    {
     "name": "stdout",
     "output_type": "stream",
     "text": [
      "+---------+---------+--------------------+--------+-----------+---------+----------+--------------+\n",
      "|invoiceno|stockcode|         description|quantity|invoicedate|unitprice|customerid|       country|\n",
      "+---------+---------+--------------------+--------+-----------+---------+----------+--------------+\n",
      "|  c570556|    20971|pink_blue_felt_cr...|   -1296| 2017-10-09|     1.06|     16029|united_kingdom|\n",
      "|  c570556|    20971|pink_blue_felt_cr...|   -1296| 2017-10-09|     1.06|     16029|united_kingdom|\n",
      "|  c570556|    22147|feltcraft_butterf...|    -840| 2017-10-09|     1.25|     16029|united_kingdom|\n",
      "|  c570556|    22273|feltcraft_doll_molly|    -720| 2017-10-09|      2.3|     16029|united_kingdom|\n",
      "|  c570556|    22273|feltcraft_doll_molly|    -720| 2017-10-09|     2.55|     16029|united_kingdom|\n",
      "|  c570556|    22149|feltcraft_6_flowe...|    -600| 2017-10-09|     1.85|     16029|united_kingdom|\n",
      "|  c570552|   85099b|jumbo_bag_red_ret...|    -300| 2017-10-09|     1.74|     16029|united_kingdom|\n",
      "|  c570556|    22570|feltcraft_cushion...|    -240| 2017-10-09|     3.39|     16029|united_kingdom|\n",
      "|  c570552|    22386|jumbo_bag_pink_po...|    -200| 2017-10-09|     1.74|     16029|united_kingdom|\n",
      "|  c570552|    20712|jumbo_bag_woodlan...|    -200| 2017-10-09|     1.74|     16029|united_kingdom|\n",
      "|  c570552|    22961|jam_making_set_pr...|    -192| 2017-10-09|     1.25|     16029|united_kingdom|\n",
      "|  c570556|    22569|feltcraft_cushion...|    -192| 2017-10-09|     3.39|     16029|united_kingdom|\n",
      "|  c546735|    22933|baking_mould_east...|    -144| 2017-03-14|      2.1|     16029|united_kingdom|\n",
      "|  c570556|    22568|feltcraft_cushion...|    -144| 2017-10-09|     3.39|     16029|united_kingdom|\n",
      "|  c570556|    20969|red_floral_feltcr...|    -144| 2017-10-09|     3.39|     16029|united_kingdom|\n",
      "|  c570556|    22568|feltcraft_cushion...|    -144| 2017-10-09|     3.39|     16029|united_kingdom|\n",
      "|  c570556|    20969|red_floral_feltcr...|    -144| 2017-10-09|     3.39|     16029|united_kingdom|\n",
      "|  c570552|   85099f|jumbo_bag_strawberry|    -100| 2017-10-09|     1.74|     16029|united_kingdom|\n",
      "|  c570552|    21931|jumbo_storage_bag...|    -100| 2017-10-09|     1.74|     16029|united_kingdom|\n",
      "|  c546735|    22932|baking_mould_toff...|     -96| 2017-03-14|      2.1|     16029|united_kingdom|\n",
      "+---------+---------+--------------------+--------+-----------+---------+----------+--------------+\n",
      "only showing top 20 rows\n",
      "\n"
     ]
    }
   ],
   "source": [
    "df1.filter(\n",
    "    (pf.col(\"customerid\") == 16029) & \n",
    "    (pf.col(\"quantity\") < 0)\n",
    ").sort(pf.col(\"quantity\").asc()).show()"
   ]
  },
  {
   "cell_type": "code",
   "execution_count": 218,
   "metadata": {},
   "outputs": [
    {
     "name": "stdout",
     "output_type": "stream",
     "text": [
      "+----------+-----------------+-----------------+-----------+-----------------+----------------+--------------+-------------+\n",
      "|customerid|min_product_price|max_product_price|total_itens|unique_stockcodes|unique_invoiceno|first_purchase|last_purchase|\n",
      "+----------+-----------------+-----------------+-----------+-----------------+----------------+--------------+-------------+\n",
      "|     16029|             0.94|             8.49|      32203|               43|              66|    2016-11-29|   2017-10-30|\n",
      "+----------+-----------------+-----------------+-----------+-----------------+----------------+--------------+-------------+\n",
      "\n"
     ]
    }
   ],
   "source": [
    "plot_simple_customer_statistics(df2, 16029)"
   ]
  },
  {
   "cell_type": "code",
   "execution_count": 225,
   "metadata": {},
   "outputs": [
    {
     "name": "stdout",
     "output_type": "stream",
     "text": [
      "+---------+---------+--------------------+--------+-----------+---------+----------+--------------+\n",
      "|invoiceno|stockcode|         description|quantity|invoicedate|unitprice|customerid|       country|\n",
      "+---------+---------+--------------------+--------+-----------+---------+----------+--------------+\n",
      "|  c563577|    21877| home_sweet_home_mug|    -828| 2017-08-15|     1.06|     17949|united_kingdom|\n",
      "|  c563577|    21069|vintage_billboard...|    -701| 2017-08-15|     1.06|     17949|united_kingdom|\n",
      "|  c558553|    23170|regency_tea_plate...|    -576| 2017-06-28|     1.45|     17949|united_kingdom|\n",
      "|  c563577|    21871| save_the_planet_mug|    -576| 2017-08-15|     1.06|     17949|united_kingdom|\n",
      "|  c564081|    22423|regency_cakestand...|    -150| 2017-08-20|    10.95|     17949|united_kingdom|\n",
      "|  c554127|        m|              manual|     -96| 2017-05-21|      5.0|     17949|united_kingdom|\n",
      "|  c580171|    23108|set_of_10_led_dol...|     -24| 2017-11-30|     3.39|     17949|united_kingdom|\n",
      "|  c563570|    21067|vintage_red_teati...|     -23| 2017-08-15|     1.06|     17949|united_kingdom|\n",
      "|  c572428|        m|              manual|      -1| 2017-10-22|    464.9|     17949|united_kingdom|\n",
      "+---------+---------+--------------------+--------+-----------+---------+----------+--------------+\n",
      "\n",
      "+----------+-----------------+-----------------+-----------+-----------------+----------------+--------------+-------------+\n",
      "|customerid|min_product_price|max_product_price|total_itens|unique_stockcodes|unique_invoiceno|first_purchase|last_purchase|\n",
      "+----------+-----------------+-----------------+-----------+-----------------+----------------+--------------+-------------+\n",
      "|     17949|             0.34|            10.95|      27572|               28|              49|    2016-12-01|   2017-12-06|\n",
      "+----------+-----------------+-----------------+-----------+-----------------+----------------+--------------+-------------+\n",
      "\n"
     ]
    }
   ],
   "source": [
    "df1.filter(\n",
    "    (pf.col(\"customerid\") == 17949) & \n",
    "    (pf.col(\"quantity\") < 0)\n",
    ").sort(pf.col(\"quantity\").asc()).show()\n",
    "\n",
    "plot_simple_customer_statistics(df2, 17949)"
   ]
  }
 ],
 "metadata": {
  "kernelspec": {
   "display_name": "insiders_clustering",
   "language": "python",
   "name": "python3"
  },
  "language_info": {
   "codemirror_mode": {
    "name": "ipython",
    "version": 3
   },
   "file_extension": ".py",
   "mimetype": "text/x-python",
   "name": "python",
   "nbconvert_exporter": "python",
   "pygments_lexer": "ipython3",
   "version": "3.10.12"
  },
  "orig_nbformat": 4
 },
 "nbformat": 4,
 "nbformat_minor": 2
}
